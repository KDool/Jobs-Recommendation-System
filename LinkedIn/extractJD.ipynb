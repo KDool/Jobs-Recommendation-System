{
 "cells": [
  {
   "cell_type": "code",
   "execution_count": 1,
   "metadata": {},
   "outputs": [],
   "source": [
    "# This notebook is used to extract a Job Description from a Linkedin Job's ID\n",
    "\n",
    "# Import the necessary libraries\n",
    "from selenium import webdriver\n",
    "import pandas as pd\n",
    "from bs4 import BeautifulSoup as bs4\n",
    "from time import sleep\n"
   ]
  },
  {
   "cell_type": "code",
   "execution_count": 2,
   "metadata": {},
   "outputs": [],
   "source": [
    "DRIVER_PATH = '../chromedriver'\n",
    "driver = webdriver.Chrome(executable_path=DRIVER_PATH)\n",
    "driver.maximize_window()"
   ]
  },
  {
   "cell_type": "code",
   "execution_count": 3,
   "metadata": {},
   "outputs": [
    {
     "name": "stdout",
     "output_type": "stream",
     "text": [
      "- Finish initializing a driver\n",
      "- Finish importing the login credentials\n",
      "- Finish keying in email\n",
      "- Finish keying in password\n",
      "- Finish Task 1: Login to Linkedin\n"
     ]
    }
   ],
   "source": [
    "def login():\n",
    "      sleep(2)\n",
    "      url = 'https://www.linkedin.com/login'\n",
    "      driver.get(url)\n",
    "      print('- Finish initializing a driver')\n",
    "      sleep(2)\n",
    "\n",
    "      # Task 1.2: Import username and password\n",
    "      credential = open('credentials.txt')\n",
    "      line = credential.readlines()\n",
    "      username = line[0]\n",
    "      password = line[1]\n",
    "      print('- Finish importing the login credentials')\n",
    "      sleep(1)\n",
    "\n",
    "      # Task 1.2: Key in login credentials\n",
    "      email_field = driver.find_element_by_id('username')\n",
    "      email_field.send_keys(username)\n",
    "      print('- Finish keying in email')\n",
    "      sleep(3)\n",
    "\n",
    "      password_field = driver.find_element_by_name('session_password')\n",
    "      password_field.send_keys(password)\n",
    "      print('- Finish keying in password')\n",
    "      sleep(3)\n",
    "\n",
    "      # Task 1.2: Click the Login button\n",
    "      signin_field = driver.find_element_by_xpath('//*[@id=\"organic-div\"]/form/div[3]/button')\n",
    "      signin_field.click()\n",
    "      sleep(3)\n",
    "\n",
    "      print('- Finish Task 1: Login to Linkedin')\n",
    "\n",
    "      # Task 1.3: Check if the login is successful\n",
    "login()"
   ]
  },
  {
   "cell_type": "code",
   "execution_count": 8,
   "metadata": {},
   "outputs": [],
   "source": [
    "def extract_JD(job_id=''):\n",
    "        # Task 2.1: Access the job page\n",
    "        url = 'https://www.linkedin.com/jobs/view/' + job_id\n",
    "        driver.get(url)\n",
    "        sleep(2)\n",
    "\n",
    "        button_showmore = driver.find_elements_by_css_selector(\"[aria-label='Click to see more description'\")\n",
    "        button_showmore[0].click()\n",
    "        # Task 2.2: Extract the Job Description\n",
    "        soup = bs4(driver.page_source, 'html.parser')\n",
    "        job_description = soup.find('div', class_='description__text')\n",
    "        job_description = job_description.text.strip()\n",
    "        print('- Finish extracting the Job Description')\n",
    "        sleep(2)\n",
    "        print(job_description)\n",
    "        # Task 2.3: Save the Job Description\n",
    "        # with open('JD.txt', 'w') as f:\n",
    "        #         f.write(job_description)\n",
    "        # print('- Finish saving the Job Description')\n",
    "        # sleep(2)\n",
    "\n",
    "    "
   ]
  },
  {
   "cell_type": "code",
   "execution_count": 9,
   "metadata": {},
   "outputs": [
    {
     "ename": "AttributeError",
     "evalue": "'NoneType' object has no attribute 'text'",
     "output_type": "error",
     "traceback": [
      "\u001b[0;31m---------------------------------------------------------------------------\u001b[0m",
      "\u001b[0;31mAttributeError\u001b[0m                            Traceback (most recent call last)",
      "\u001b[0;32m/var/folders/sr/lt1xdrls5_98kvw_5_1t783c0000gn/T/ipykernel_82362/2734067535.py\u001b[0m in \u001b[0;36m<module>\u001b[0;34m\u001b[0m\n\u001b[0;32m----> 1\u001b[0;31m \u001b[0mextract_JD\u001b[0m\u001b[0;34m(\u001b[0m\u001b[0;34m'2949802590'\u001b[0m\u001b[0;34m)\u001b[0m\u001b[0;34m\u001b[0m\u001b[0;34m\u001b[0m\u001b[0m\n\u001b[0m",
      "\u001b[0;32m/var/folders/sr/lt1xdrls5_98kvw_5_1t783c0000gn/T/ipykernel_82362/3282700680.py\u001b[0m in \u001b[0;36mextract_JD\u001b[0;34m(job_id)\u001b[0m\n\u001b[1;32m     10\u001b[0m         \u001b[0msoup\u001b[0m \u001b[0;34m=\u001b[0m \u001b[0mbs4\u001b[0m\u001b[0;34m(\u001b[0m\u001b[0mdriver\u001b[0m\u001b[0;34m.\u001b[0m\u001b[0mpage_source\u001b[0m\u001b[0;34m,\u001b[0m \u001b[0;34m'html.parser'\u001b[0m\u001b[0;34m)\u001b[0m\u001b[0;34m\u001b[0m\u001b[0;34m\u001b[0m\u001b[0m\n\u001b[1;32m     11\u001b[0m         \u001b[0mjob_description\u001b[0m \u001b[0;34m=\u001b[0m \u001b[0msoup\u001b[0m\u001b[0;34m.\u001b[0m\u001b[0mfind\u001b[0m\u001b[0;34m(\u001b[0m\u001b[0;34m'div'\u001b[0m\u001b[0;34m,\u001b[0m \u001b[0mclass_\u001b[0m\u001b[0;34m=\u001b[0m\u001b[0;34m'description__text'\u001b[0m\u001b[0;34m)\u001b[0m\u001b[0;34m\u001b[0m\u001b[0;34m\u001b[0m\u001b[0m\n\u001b[0;32m---> 12\u001b[0;31m         \u001b[0mjob_description\u001b[0m \u001b[0;34m=\u001b[0m \u001b[0mjob_description\u001b[0m\u001b[0;34m.\u001b[0m\u001b[0mtext\u001b[0m\u001b[0;34m.\u001b[0m\u001b[0mstrip\u001b[0m\u001b[0;34m(\u001b[0m\u001b[0;34m)\u001b[0m\u001b[0;34m\u001b[0m\u001b[0;34m\u001b[0m\u001b[0m\n\u001b[0m\u001b[1;32m     13\u001b[0m         \u001b[0mprint\u001b[0m\u001b[0;34m(\u001b[0m\u001b[0;34m'- Finish extracting the Job Description'\u001b[0m\u001b[0;34m)\u001b[0m\u001b[0;34m\u001b[0m\u001b[0;34m\u001b[0m\u001b[0m\n\u001b[1;32m     14\u001b[0m         \u001b[0msleep\u001b[0m\u001b[0;34m(\u001b[0m\u001b[0;36m2\u001b[0m\u001b[0;34m)\u001b[0m\u001b[0;34m\u001b[0m\u001b[0;34m\u001b[0m\u001b[0m\n",
      "\u001b[0;31mAttributeError\u001b[0m: 'NoneType' object has no attribute 'text'"
     ]
    }
   ],
   "source": [
    "extract_JD('2949802590')"
   ]
  }
 ],
 "metadata": {
  "interpreter": {
   "hash": "aee8b7b246df8f9039afb4144a1f6fd8d2ca17a180786b69acc140d282b71a49"
  },
  "kernelspec": {
   "display_name": "Python 3.9.7 64-bit",
   "language": "python",
   "name": "python3"
  },
  "language_info": {
   "codemirror_mode": {
    "name": "ipython",
    "version": 3
   },
   "file_extension": ".py",
   "mimetype": "text/x-python",
   "name": "python",
   "nbconvert_exporter": "python",
   "pygments_lexer": "ipython3",
   "version": "3.9.7"
  },
  "orig_nbformat": 4
 },
 "nbformat": 4,
 "nbformat_minor": 2
}
