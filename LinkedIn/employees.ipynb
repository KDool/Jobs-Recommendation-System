{
 "cells": [
  {
   "cell_type": "code",
   "execution_count": 1,
   "metadata": {},
   "outputs": [
    {
     "name": "stdout",
     "output_type": "stream",
     "text": [
      "- Finish importing packages\n"
     ]
    }
   ],
   "source": [
    "# Import libraries and packages for the project \n",
    "\n",
    "from selenium import webdriver\n",
    "from selenium.webdriver.common.keys import Keys\n",
    "from bs4 import BeautifulSoup as bs4\n",
    "from time import sleep\n",
    "import csv\n",
    "import requests\n",
    "\n",
    "print('- Finish importing packages')"
   ]
  },
  {
   "cell_type": "code",
   "execution_count": 2,
   "metadata": {},
   "outputs": [
    {
     "name": "stdout",
     "output_type": "stream",
     "text": [
      "- Finish initializing a driver\n",
      "- Finish importing the login credentials\n",
      "- Finish keying in email\n",
      "- Finish keying in password\n",
      "- Finish Task 1: Login to Linkedin\n"
     ]
    }
   ],
   "source": [
    "# Task 1: Login to Linkedin\n",
    "DRIVER_PATH = '../chromedriver'\n",
    "# Task 1.1: Open Chrome and Access Linkedin login site\n",
    "driver = webdriver.Chrome(executable_path=DRIVER_PATH)\n",
    "sleep(2)\n",
    "url = 'https://www.linkedin.com/login'\n",
    "driver.get(url)\n",
    "print('- Finish initializing a driver')\n",
    "sleep(2)\n",
    "\n",
    "# Task 1.2: Import username and password\n",
    "credential = open('credentials.txt')\n",
    "line = credential.readlines()\n",
    "username = line[0]\n",
    "password = line[1]\n",
    "print('- Finish importing the login credentials')\n",
    "sleep(1)\n",
    "\n",
    "# Task 1.2: Key in login credentials\n",
    "email_field = driver.find_element_by_id('username')\n",
    "email_field.send_keys(username)\n",
    "print('- Finish keying in email')\n",
    "sleep(3)\n",
    "\n",
    "password_field = driver.find_element_by_name('session_password')\n",
    "password_field.send_keys(password)\n",
    "print('- Finish keying in password')\n",
    "sleep(3)\n",
    "\n",
    "# Task 1.2: Click the Login button\n",
    "signin_field = driver.find_element_by_xpath('//*[@id=\"organic-div\"]/form/div[3]/button')\n",
    "signin_field.click()\n",
    "sleep(3)\n",
    "\n",
    "print('- Finish Task 1: Login to Linkedin')\n",
    "\n",
    "\n"
   ]
  },
  {
   "cell_type": "code",
   "execution_count": 3,
   "metadata": {},
   "outputs": [
    {
     "name": "stdout",
     "output_type": "stream",
     "text": [
      "- Finish Task 2: Search for profiles\n"
     ]
    }
   ],
   "source": [
    "\n",
    "# Task 2: Search for the profile we want to crawl\n",
    "\n",
    "# Task 2.1: Locate the search bar element\n",
    "# //*[@id=\"global-nav-typeahead\"]/input\n",
    "# \n",
    "search_field = driver.find_element_by_class_name('search-global-typeahead__input')\n",
    "\n",
    "# Task 2.2: Input the search query to the search bar\n",
    "keyword = 'Tester' + ' ' + 'people'\n",
    "search_field.send_keys(keyword)\n",
    "\n",
    "# Task 2.3: Search\n",
    "search_field.send_keys(Keys.RETURN)\n",
    "\n",
    "\n",
    "print('- Finish Task 2: Search for profiles')"
   ]
  },
  {
   "cell_type": "code",
   "execution_count": 4,
   "metadata": {},
   "outputs": [],
   "source": [
    "sell_full_result = driver.find_element_by_xpath('//*[@id=\"main\"]/div/div/div[1]/div[2]')\n",
    "sell_full_result.click()"
   ]
  },
  {
   "cell_type": "code",
   "execution_count": 5,
   "metadata": {},
   "outputs": [
    {
     "name": "stdout",
     "output_type": "stream",
     "text": [
      "- Finish Task 3: Scrape the URLs\n"
     ]
    }
   ],
   "source": [
    "# Task 3: Scrape the URLs of the profiles\n",
    "\n",
    "# Task 3.1: Write a function to extract the URLs of one page\n",
    "def GetURL():\n",
    "    page_source = bs4(driver.page_source)\n",
    "    profiles = page_source.find_all('a', class_ = 'app-aware-link')\n",
    "    all_profile_URL = []\n",
    "    for profile in profiles:\n",
    "        profile_ID = profile.get('href')\n",
    "        profile_URL = profile_ID.split('?')[0]\n",
    "        if profile_URL not in all_profile_URL:\n",
    "            all_profile_URL.append(profile_URL)\n",
    "    return all_profile_URL\n",
    "\n",
    "# Task 3.2: Navigate through many page, and extract the profile URLs of each page\n",
    "\n",
    "# input_page = int(input('How many pages you want to scrape: '))\n",
    "input_page = 99\n",
    "URLs_all_page = []\n",
    "for page in range(input_page):\n",
    "\n",
    "    URLs_one_page = GetURL()\n",
    "    # print(URLs_one_page)\n",
    "    sleep(2)\n",
    "    driver.execute_script('window.scrollTo(0, document.body.scrollHeight);') #scroll to the end of the page\n",
    "    sleep(3)\n",
    "    # next_button = driver.find_element_by_class_name(\"artdeco-pagination__button--next\")\n",
    "    try:\n",
    "        next_button = driver.find_element_by_css_selector('[aria-label=Next]')\n",
    "    except:\n",
    "        print(\"Error when Loading\")\n",
    "        driver.refresh()\n",
    "        continue\n",
    "        \n",
    "    driver.execute_script(\"arguments[0].click();\", next_button)\n",
    "    URLs_all_page = URLs_all_page + URLs_one_page\n",
    "    sleep(3)\n",
    "\n",
    "print('- Finish Task 3: Scrape the URLs')\n",
    "\n",
    "\n",
    "import pandas as pd \n",
    "df = pd.DataFrame(URLs_all_page)\n",
    "df.to_csv('profileURL_Tester.csv',mode='a', header=False)\n",
    "\n"
   ]
  },
  {
   "cell_type": "code",
   "execution_count": 18,
   "metadata": {},
   "outputs": [
    {
     "ename": "AttributeError",
     "evalue": "'WebDriver' object has no attribute 'getCurrentUrl'",
     "output_type": "error",
     "traceback": [
      "\u001b[0;31m---------------------------------------------------------------------------\u001b[0m",
      "\u001b[0;31mAttributeError\u001b[0m                            Traceback (most recent call last)",
      "\u001b[0;32m/var/folders/sr/lt1xdrls5_98kvw_5_1t783c0000gn/T/ipykernel_32746/3135746379.py\u001b[0m in \u001b[0;36m<module>\u001b[0;34m\u001b[0m\n\u001b[0;32m----> 1\u001b[0;31m \u001b[0mdriver\u001b[0m\u001b[0;34m.\u001b[0m\u001b[0mget\u001b[0m\u001b[0;34m(\u001b[0m\u001b[0mdriver\u001b[0m\u001b[0;34m.\u001b[0m\u001b[0mgetCurrentUrl\u001b[0m\u001b[0;34m(\u001b[0m\u001b[0;34m)\u001b[0m\u001b[0;34m)\u001b[0m\u001b[0;34m;\u001b[0m\u001b[0;34m\u001b[0m\u001b[0;34m\u001b[0m\u001b[0m\n\u001b[0m",
      "\u001b[0;31mAttributeError\u001b[0m: 'WebDriver' object has no attribute 'getCurrentUrl'"
     ]
    }
   ],
   "source": [
    "driver.get(driver.getCurrentUrl());\n"
   ]
  },
  {
   "cell_type": "code",
   "execution_count": 7,
   "metadata": {},
   "outputs": [
    {
     "name": "stdout",
     "output_type": "stream",
     "text": [
      "Mission Completed!\n"
     ]
    }
   ],
   "source": [
    "# Task 4: Scrape the data of 1 Linkedin profile, and write the data to a .CSV file\n",
    "\n",
    "with open('output.csv', 'w',  newline = '') as file_output:\n",
    "    headers = ['Name', 'Job Title', 'Location', 'URL']\n",
    "    writer = csv.DictWriter(file_output, delimiter=',', lineterminator='\\n',fieldnames=headers)\n",
    "    writer.writeheader()\n",
    "    for linkedin_URL in URLs_all_page:\n",
    "        driver.get(linkedin_URL)\n",
    "        print('- Accessing profile: ', linkedin_URL)\n",
    "\n",
    "        page_source = bs4(driver.page_source, \"html.parser\")\n",
    "\n",
    "        info_div = page_source.find('div',{'class':'flex-1 mr5'})\n",
    "        info_loc = info_div.find_all('ul')\n",
    "        name = info_loc[0].find('li').get_text().strip() #Remove unnecessary characters \n",
    "        print('--- Profile name is: ', name)\n",
    "        location = info_loc[1].find('li').get_text().strip() #Remove unnecessary characters \n",
    "        print('--- Profile location is: ', location)\n",
    "        title = info_div.find('h2').get_text().strip()\n",
    "        print('--- Profile title is: ', title)\n",
    "        writer.writerow({headers[0]:name, headers[1]:location, headers[2]:title, headers[3]:linkedin_URL})\n",
    "        print('\\n')\n",
    "\n",
    "print('Mission Completed!')"
   ]
  },
  {
   "cell_type": "code",
   "execution_count": 118,
   "metadata": {},
   "outputs": [
    {
     "name": "stdout",
     "output_type": "stream",
     "text": [
      "[<div class=\"display-flex flex-row justify-space-between\">\n",
      "<div class=\"display-flex flex-column full-width\">\n",
      "<div class=\"display-flex align-items-center\">\n",
      "<span class=\"t-bold mr1\">\n",
      "<span aria-hidden=\"true\"><!-- -->Customer service remote<!-- --></span><span class=\"visually-hidden\"><!-- -->Customer service remote<!-- --></span>\n",
      "</span>\n",
      "<!-- --><!-- --><!-- --> </div>\n",
      "<span class=\"t-14 t-normal\">\n",
      "<span aria-hidden=\"true\"><!-- -->Creative Financial Staffing (CFS) · Full-time<!-- --></span><span class=\"visually-hidden\"><!-- -->Creative Financial Staffing (CFS) · Full-time<!-- --></span>\n",
      "</span>\n",
      "<span class=\"t-14 t-normal t-black--light\">\n",
      "<span aria-hidden=\"true\"><!-- -->Jan 2022 - Present · 3 mos<!-- --></span><span class=\"visually-hidden\"><!-- -->Jan 2022 - Present · 3 mos<!-- --></span>\n",
      "</span>\n",
      "<span class=\"t-14 t-normal t-black--light\">\n",
      "<span aria-hidden=\"true\"><!-- -->Ohio, United States<!-- --></span><span class=\"visually-hidden\"><!-- -->Ohio, United States<!-- --></span>\n",
      "</span>\n",
      "</div>\n",
      "<!-- -->\n",
      "<div class=\"pvs-entity__action-container\">\n",
      "<!-- --> </div>\n",
      "</div>, <div class=\"display-flex flex-row justify-space-between\">\n",
      "<div class=\"display-flex flex-column full-width\">\n",
      "<div class=\"display-flex align-items-center\">\n",
      "<span class=\"t-bold mr1\">\n",
      "<span aria-hidden=\"true\"><!-- -->Data Entry Clerk<!-- --></span><span class=\"visually-hidden\"><!-- -->Data Entry Clerk<!-- --></span>\n",
      "</span>\n",
      "<!-- --><!-- --><!-- --> </div>\n",
      "<span class=\"t-14 t-normal\">\n",
      "<span aria-hidden=\"true\"><!-- -->TeamHealth · Full-time<!-- --></span><span class=\"visually-hidden\"><!-- -->TeamHealth · Full-time<!-- --></span>\n",
      "</span>\n",
      "<span class=\"t-14 t-normal t-black--light\">\n",
      "<span aria-hidden=\"true\"><!-- -->Oct 2021 - Jan 2022 · 4 mos<!-- --></span><span class=\"visually-hidden\"><!-- -->Oct 2021 - Jan 2022 · 4 mos<!-- --></span>\n",
      "</span>\n",
      "<span class=\"t-14 t-normal t-black--light\">\n",
      "<span aria-hidden=\"true\"><!-- -->Akron, Ohio, United States<!-- --></span><span class=\"visually-hidden\"><!-- -->Akron, Ohio, United States<!-- --></span>\n",
      "</span>\n",
      "</div>\n",
      "<!-- -->\n",
      "<div class=\"pvs-entity__action-container\">\n",
      "<!-- --> </div>\n",
      "</div>, <div class=\"display-flex flex-row justify-space-between\">\n",
      "<div class=\"display-flex flex-column full-width\">\n",
      "<div class=\"display-flex align-items-center\">\n",
      "<span class=\"t-bold mr1\">\n",
      "<span aria-hidden=\"true\"><!-- -->Bartender<!-- --></span><span class=\"visually-hidden\"><!-- -->Bartender<!-- --></span>\n",
      "</span>\n",
      "<!-- --><!-- --><!-- --> </div>\n",
      "<span class=\"t-14 t-normal\">\n",
      "<span aria-hidden=\"true\"><!-- -->Y'all Come Back Now Saloon<!-- --></span><span class=\"visually-hidden\"><!-- -->Y'all Come Back Now Saloon<!-- --></span>\n",
      "</span>\n",
      "<span class=\"t-14 t-normal t-black--light\">\n",
      "<span aria-hidden=\"true\"><!-- -->Jan 2018 - Dec 2021 · 4 yrs<!-- --></span><span class=\"visually-hidden\"><!-- -->Jan 2018 - Dec 2021 · 4 yrs<!-- --></span>\n",
      "</span>\n",
      "<span class=\"t-14 t-normal t-black--light\">\n",
      "<span aria-hidden=\"true\"><!-- -->Del Rio Texas<!-- --></span><span class=\"visually-hidden\"><!-- -->Del Rio Texas<!-- --></span>\n",
      "</span>\n",
      "</div>\n",
      "<!-- -->\n",
      "<div class=\"pvs-entity__action-container\">\n",
      "<!-- --> </div>\n",
      "</div>, <div class=\"display-flex flex-row justify-space-between\">\n",
      "<div class=\"display-flex flex-column full-width\">\n",
      "<div class=\"display-flex align-items-center\">\n",
      "<span class=\"t-bold mr1\">\n",
      "<span aria-hidden=\"true\"><!-- -->Driver<!-- --></span><span class=\"visually-hidden\"><!-- -->Driver<!-- --></span>\n",
      "</span>\n",
      "<!-- --><!-- --><!-- --> </div>\n",
      "<span class=\"t-14 t-normal\">\n",
      "<span aria-hidden=\"true\"><!-- -->THE KHOURY GROUP, LLC<!-- --></span><span class=\"visually-hidden\"><!-- -->THE KHOURY GROUP, LLC<!-- --></span>\n",
      "</span>\n",
      "<span class=\"t-14 t-normal t-black--light\">\n",
      "<span aria-hidden=\"true\"><!-- -->Nov 2016 - Apr 2017 · 6 mos<!-- --></span><span class=\"visually-hidden\"><!-- -->Nov 2016 - Apr 2017 · 6 mos<!-- --></span>\n",
      "</span>\n",
      "<span class=\"t-14 t-normal t-black--light\">\n",
      "<span aria-hidden=\"true\"><!-- -->Del Rio Texas<!-- --></span><span class=\"visually-hidden\"><!-- -->Del Rio Texas<!-- --></span>\n",
      "</span>\n",
      "</div>\n",
      "<!-- -->\n",
      "<div class=\"pvs-entity__action-container\">\n",
      "<!-- --> </div>\n",
      "</div>, <div class=\"display-flex flex-row justify-space-between\">\n",
      "<div class=\"display-flex flex-column full-width\">\n",
      "<div class=\"display-flex align-items-center\">\n",
      "<span class=\"t-bold mr1\">\n",
      "<span aria-hidden=\"true\"><!-- -->Quality Assurance Specialist<!-- --></span><span class=\"visually-hidden\"><!-- -->Quality Assurance Specialist<!-- --></span>\n",
      "</span>\n",
      "<!-- --><!-- --><!-- --> </div>\n",
      "<span class=\"t-14 t-normal\">\n",
      "<span aria-hidden=\"true\"><!-- -->Henderson Controls<!-- --></span><span class=\"visually-hidden\"><!-- -->Henderson Controls<!-- --></span>\n",
      "</span>\n",
      "<span class=\"t-14 t-normal t-black--light\">\n",
      "<span aria-hidden=\"true\"><!-- -->Jan 2014 - Jan 2016 · 2 yrs 1 mo<!-- --></span><span class=\"visually-hidden\"><!-- -->Jan 2014 - Jan 2016 · 2 yrs 1 mo<!-- --></span>\n",
      "</span>\n",
      "<span class=\"t-14 t-normal t-black--light\">\n",
      "<span aria-hidden=\"true\"><!-- -->Lockhart Texas<!-- --></span><span class=\"visually-hidden\"><!-- -->Lockhart Texas<!-- --></span>\n",
      "</span>\n",
      "</div>\n",
      "<!-- -->\n",
      "<div class=\"pvs-entity__action-container\">\n",
      "<!-- --> </div>\n",
      "</div>]\n"
     ]
    }
   ],
   "source": [
    "linkedin_URL ='https://www.linkedin.com/in/caroline-almaraz-942476168/'\n",
    "driver.get(linkedin_URL)\n",
    "html = driver.page_source\n",
    "soup = bs4(html, \"html.parser\")\n",
    "\n",
    "profile_experience = []\n",
    "profile_education = []\n",
    "profile_skills = []\n",
    "profile_certification = []\n",
    "profile_honors = []\n",
    "\n",
    "# profile_name = soup.find_all('h1',{'class':'text-heading-xlarge inline t-24 v-align-middle break-words'})[0].get_text().strip()\n",
    "\n",
    "profile_experience = soup.find_all('section',{'class':'artdeco-card'})\n",
    "# print(len(profile_experience))\n",
    "# print(soup)\n",
    "# print(profile_name)\n",
    "driver.execute_script('window.scrollTo(0, document.body.scrollHeight);') #scroll to the end of the page\n",
    "for i in range(0,len(profile_experience)):\n",
    "      header_tag = profile_experience[i].select('h2.pvs-header__title.text-heading-large>span.visually-hidden')\n",
    "      if len(header_tag) > 0:\n",
    "            if(header_tag[0].get_text().strip() == 'Experience'):\n",
    "                  experience_list = profile_experience[i].select('div.display-flex.flex-row.justify-space-between')\n",
    "                  print(experience_list)           \n",
    "      \n",
    "      # print(header_tag)\n",
    "      # print(header_text)\n",
    "\n",
    "\n"
   ]
  }
 ],
 "metadata": {
  "interpreter": {
   "hash": "aee8b7b246df8f9039afb4144a1f6fd8d2ca17a180786b69acc140d282b71a49"
  },
  "kernelspec": {
   "display_name": "Python 3.9.7 64-bit",
   "language": "python",
   "name": "python3"
  },
  "language_info": {
   "codemirror_mode": {
    "name": "ipython",
    "version": 3
   },
   "file_extension": ".py",
   "mimetype": "text/x-python",
   "name": "python",
   "nbconvert_exporter": "python",
   "pygments_lexer": "ipython3",
   "version": "3.9.7"
  },
  "orig_nbformat": 4
 },
 "nbformat": 4,
 "nbformat_minor": 2
}
