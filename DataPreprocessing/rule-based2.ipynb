{
 "cells": [
  {
   "cell_type": "code",
   "execution_count": 1,
   "metadata": {},
   "outputs": [],
   "source": [
    "list_data_fields = ['LinkedIn/output/JD_Business Intelligence.csv','LinkedIn/output/JD_Data Analyst.csv',\n",
    "                    'LinkedIn/output/JD_Data Architect.csv','LinkedIn/output/JD_Data Engineer.csv',\n",
    "                    'LinkedIn/output/JD_Data Scientist.csv','LinkedIn/output/JD_Business Analyst.csv','LinkedIn/output/JD_Database Administrator.csv']\n"
   ]
  },
  {
   "cell_type": "code",
   "execution_count": 2,
   "metadata": {},
   "outputs": [],
   "source": [
    "import pandas as pd\n",
    "def read_and_clean_single_role(input_path=''):\n",
    "    df = pd.read_csv(input_path,sep='|')\n",
    "\n",
    "    # Drop Null Values for description column\n",
    "    df = df.dropna(axis=0,subset=['description'])\n",
    "\n",
    "    # Remove the same description & company & jobTitle & location & type\n",
    "    df = df.drop_duplicates(subset=['jobTitle','location','company','type','description'],keep='first')\n",
    "\n",
    "    return df\n",
    "    \n",
    "def create_field_DataFrame(input_list = list):\n",
    "    list_dfs=[]\n",
    "    for item in input_list:\n",
    "        print(item)\n",
    "        df_tmp = read_and_clean_single_role('../'+item)\n",
    "        list_dfs.append(df_tmp)\n",
    "\n",
    "    df = pd.concat(list_dfs)\n",
    "    df = df.reset_index()\n",
    "    return df"
   ]
  },
  {
   "cell_type": "code",
   "execution_count": 3,
   "metadata": {},
   "outputs": [
    {
     "name": "stdout",
     "output_type": "stream",
     "text": [
      "LinkedIn/output/JD_Business Intelligence.csv\n",
      "LinkedIn/output/JD_Data Analyst.csv\n",
      "LinkedIn/output/JD_Data Architect.csv\n",
      "LinkedIn/output/JD_Data Engineer.csv\n",
      "LinkedIn/output/JD_Data Scientist.csv\n",
      "LinkedIn/output/JD_Business Analyst.csv\n",
      "LinkedIn/output/JD_Database Administrator.csv\n"
     ]
    }
   ],
   "source": [
    "df_DS = create_field_DataFrame(list_data_fields)\n",
    "df_lang = pd.read_csv('ds_job_lang.csv')"
   ]
  },
  {
   "cell_type": "code",
   "execution_count": 4,
   "metadata": {},
   "outputs": [],
   "source": [
    "df_DS['lang'] = df_lang['language']\n",
    "df_DS = df_DS[df_DS['lang']=='en']\n",
    "df_DS\n",
    "# df_DS = df_DS.reset_index('id')\n",
    "df_DS.reset_index(inplace=True,drop=True)"
   ]
  },
  {
   "cell_type": "code",
   "execution_count": 5,
   "metadata": {},
   "outputs": [
    {
     "data": {
      "text/html": [
       "<div>\n",
       "<style scoped>\n",
       "    .dataframe tbody tr th:only-of-type {\n",
       "        vertical-align: middle;\n",
       "    }\n",
       "\n",
       "    .dataframe tbody tr th {\n",
       "        vertical-align: top;\n",
       "    }\n",
       "\n",
       "    .dataframe thead th {\n",
       "        text-align: right;\n",
       "    }\n",
       "</style>\n",
       "<table border=\"1\" class=\"dataframe\">\n",
       "  <thead>\n",
       "    <tr style=\"text-align: right;\">\n",
       "      <th></th>\n",
       "      <th>index</th>\n",
       "      <th>id</th>\n",
       "      <th>jobTitle</th>\n",
       "      <th>location</th>\n",
       "      <th>company</th>\n",
       "      <th>type</th>\n",
       "      <th>description</th>\n",
       "      <th>lang</th>\n",
       "    </tr>\n",
       "  </thead>\n",
       "  <tbody>\n",
       "    <tr>\n",
       "      <th>0</th>\n",
       "      <td>0</td>\n",
       "      <td>2975673294</td>\n",
       "      <td>Data Engineer in Business Intelligence Team (B...</td>\n",
       "      <td>Ho Chi Minh City, Ho Chi Minh City, Vietnam</td>\n",
       "      <td>Agoda</td>\n",
       "      <td>Full-time · Entry level</td>\n",
       "      <td>About the job\\nAbout Agoda\\n\\nAgoda is an onli...</td>\n",
       "      <td>en</td>\n",
       "    </tr>\n",
       "    <tr>\n",
       "      <th>1</th>\n",
       "      <td>1</td>\n",
       "      <td>2993666500</td>\n",
       "      <td>Business Intelligence Intern, Kobiton</td>\n",
       "      <td>Ho Chi Minh City, Ho Chi Minh City, Vietnam</td>\n",
       "      <td>KMS Technology, Inc.</td>\n",
       "      <td>Internship · Internship</td>\n",
       "      <td>About the job\\nThis job is sourced from a job ...</td>\n",
       "      <td>en</td>\n",
       "    </tr>\n",
       "    <tr>\n",
       "      <th>2</th>\n",
       "      <td>2</td>\n",
       "      <td>2975674182</td>\n",
       "      <td>Business Intelligence Developer, Product Team ...</td>\n",
       "      <td>Ho Chi Minh City, Ho Chi Minh City, Vietnam</td>\n",
       "      <td>Agoda</td>\n",
       "      <td>Full-time · Associate</td>\n",
       "      <td>About the job\\nAbout Agoda\\n\\nAgoda is an onli...</td>\n",
       "      <td>en</td>\n",
       "    </tr>\n",
       "    <tr>\n",
       "      <th>3</th>\n",
       "      <td>3</td>\n",
       "      <td>2993740820</td>\n",
       "      <td>Business Intelligence (Edtech Company, Upto 10...</td>\n",
       "      <td>Hanoi, Hanoi, Vietnam</td>\n",
       "      <td>X3english Limited Company</td>\n",
       "      <td>₫15,000,000/month - ₫23,000,000/month · Full-t...</td>\n",
       "      <td>About the job\\nThis job is sourced from a job ...</td>\n",
       "      <td>en</td>\n",
       "    </tr>\n",
       "    <tr>\n",
       "      <th>4</th>\n",
       "      <td>4</td>\n",
       "      <td>2945707463</td>\n",
       "      <td>Senior Business Intelligence Analyst (0824)</td>\n",
       "      <td>Hanoi, Hanoi, Vietnam</td>\n",
       "      <td>Techcombank (TCB)</td>\n",
       "      <td>Full-time · Associate</td>\n",
       "      <td>About the job\\nJob Purpose\\nThe Job Holder Res...</td>\n",
       "      <td>en</td>\n",
       "    </tr>\n",
       "    <tr>\n",
       "      <th>...</th>\n",
       "      <td>...</td>\n",
       "      <td>...</td>\n",
       "      <td>...</td>\n",
       "      <td>...</td>\n",
       "      <td>...</td>\n",
       "      <td>...</td>\n",
       "      <td>...</td>\n",
       "      <td>...</td>\n",
       "    </tr>\n",
       "    <tr>\n",
       "      <th>427</th>\n",
       "      <td>16</td>\n",
       "      <td>2990265063</td>\n",
       "      <td>Database Administrator (DBA), based in Da Nang</td>\n",
       "      <td>Đà Nang, Da Nang City, Vietnam</td>\n",
       "      <td>KMS Technology, Inc.</td>\n",
       "      <td>Full-time · Associate</td>\n",
       "      <td>About the job\\nAs a senior DBA you will have t...</td>\n",
       "      <td>en</td>\n",
       "    </tr>\n",
       "    <tr>\n",
       "      <th>428</th>\n",
       "      <td>17</td>\n",
       "      <td>3008519916</td>\n",
       "      <td>Junior/Senior Database Administrator (DBA)</td>\n",
       "      <td>Ho Chi Minh City, Ho Chi Minh City, Vietnam</td>\n",
       "      <td>KMS Technology, Inc.</td>\n",
       "      <td>Full-time · Mid-Senior level</td>\n",
       "      <td>About the job\\nAs a senior DBA you will have t...</td>\n",
       "      <td>en</td>\n",
       "    </tr>\n",
       "    <tr>\n",
       "      <th>429</th>\n",
       "      <td>18</td>\n",
       "      <td>2698740162</td>\n",
       "      <td>[Local Product] Database Administrator</td>\n",
       "      <td>Ho Chi Minh City, Ho Chi Minh City, Vietnam</td>\n",
       "      <td>Shopee</td>\n",
       "      <td>Full-time · Mid-Senior level</td>\n",
       "      <td>About the job\\nAbout The Team\\n\\nThe Product D...</td>\n",
       "      <td>en</td>\n",
       "    </tr>\n",
       "    <tr>\n",
       "      <th>430</th>\n",
       "      <td>19</td>\n",
       "      <td>2973389208</td>\n",
       "      <td>[Local Product] Database Administrator (MySQL,...</td>\n",
       "      <td>Ho Chi Minh City, Ho Chi Minh City, Vietnam</td>\n",
       "      <td>Shopee</td>\n",
       "      <td>Full-time · Entry level</td>\n",
       "      <td>About the job\\nWhat Will You Do\\nResponsible f...</td>\n",
       "      <td>en</td>\n",
       "    </tr>\n",
       "    <tr>\n",
       "      <th>431</th>\n",
       "      <td>20</td>\n",
       "      <td>2990260544</td>\n",
       "      <td>Senior Database Administrator (DBA), based in ...</td>\n",
       "      <td>Đà Nang, Da Nang City, Vietnam</td>\n",
       "      <td>KMS Technology, Inc.</td>\n",
       "      <td>Full-time · Mid-Senior level</td>\n",
       "      <td>About the job\\nAs a senior DBA you will have t...</td>\n",
       "      <td>en</td>\n",
       "    </tr>\n",
       "  </tbody>\n",
       "</table>\n",
       "<p>432 rows × 8 columns</p>\n",
       "</div>"
      ],
      "text/plain": [
       "     index          id                                           jobTitle  \\\n",
       "0        0  2975673294  Data Engineer in Business Intelligence Team (B...   \n",
       "1        1  2993666500              Business Intelligence Intern, Kobiton   \n",
       "2        2  2975674182  Business Intelligence Developer, Product Team ...   \n",
       "3        3  2993740820  Business Intelligence (Edtech Company, Upto 10...   \n",
       "4        4  2945707463        Senior Business Intelligence Analyst (0824)   \n",
       "..     ...         ...                                                ...   \n",
       "427     16  2990265063     Database Administrator (DBA), based in Da Nang   \n",
       "428     17  3008519916         Junior/Senior Database Administrator (DBA)   \n",
       "429     18  2698740162             [Local Product] Database Administrator   \n",
       "430     19  2973389208  [Local Product] Database Administrator (MySQL,...   \n",
       "431     20  2990260544  Senior Database Administrator (DBA), based in ...   \n",
       "\n",
       "                                        location                    company  \\\n",
       "0    Ho Chi Minh City, Ho Chi Minh City, Vietnam                      Agoda   \n",
       "1    Ho Chi Minh City, Ho Chi Minh City, Vietnam       KMS Technology, Inc.   \n",
       "2    Ho Chi Minh City, Ho Chi Minh City, Vietnam                      Agoda   \n",
       "3                          Hanoi, Hanoi, Vietnam  X3english Limited Company   \n",
       "4                          Hanoi, Hanoi, Vietnam          Techcombank (TCB)   \n",
       "..                                           ...                        ...   \n",
       "427               Đà Nang, Da Nang City, Vietnam       KMS Technology, Inc.   \n",
       "428  Ho Chi Minh City, Ho Chi Minh City, Vietnam       KMS Technology, Inc.   \n",
       "429  Ho Chi Minh City, Ho Chi Minh City, Vietnam                     Shopee   \n",
       "430  Ho Chi Minh City, Ho Chi Minh City, Vietnam                     Shopee   \n",
       "431               Đà Nang, Da Nang City, Vietnam       KMS Technology, Inc.   \n",
       "\n",
       "                                                  type  \\\n",
       "0                              Full-time · Entry level   \n",
       "1                              Internship · Internship   \n",
       "2                                Full-time · Associate   \n",
       "3    ₫15,000,000/month - ₫23,000,000/month · Full-t...   \n",
       "4                                Full-time · Associate   \n",
       "..                                                 ...   \n",
       "427                              Full-time · Associate   \n",
       "428                       Full-time · Mid-Senior level   \n",
       "429                       Full-time · Mid-Senior level   \n",
       "430                            Full-time · Entry level   \n",
       "431                       Full-time · Mid-Senior level   \n",
       "\n",
       "                                           description lang  \n",
       "0    About the job\\nAbout Agoda\\n\\nAgoda is an onli...   en  \n",
       "1    About the job\\nThis job is sourced from a job ...   en  \n",
       "2    About the job\\nAbout Agoda\\n\\nAgoda is an onli...   en  \n",
       "3    About the job\\nThis job is sourced from a job ...   en  \n",
       "4    About the job\\nJob Purpose\\nThe Job Holder Res...   en  \n",
       "..                                                 ...  ...  \n",
       "427  About the job\\nAs a senior DBA you will have t...   en  \n",
       "428  About the job\\nAs a senior DBA you will have t...   en  \n",
       "429  About the job\\nAbout The Team\\n\\nThe Product D...   en  \n",
       "430  About the job\\nWhat Will You Do\\nResponsible f...   en  \n",
       "431  About the job\\nAs a senior DBA you will have t...   en  \n",
       "\n",
       "[432 rows x 8 columns]"
      ]
     },
     "execution_count": 5,
     "metadata": {},
     "output_type": "execute_result"
    }
   ],
   "source": [
    "df_DS"
   ]
  },
  {
   "cell_type": "code",
   "execution_count": 7,
   "metadata": {},
   "outputs": [
    {
     "name": "stderr",
     "output_type": "stream",
     "text": [
      "[nltk_data] Downloading package punkt to /Users/vankhaido/nltk_data...\n",
      "[nltk_data]   Package punkt is already up-to-date!\n",
      "[nltk_data] Downloading package averaged_perceptron_tagger to\n",
      "[nltk_data]     /Users/vankhaido/nltk_data...\n",
      "[nltk_data]   Package averaged_perceptron_tagger is already up-to-\n",
      "[nltk_data]       date!\n",
      "[nltk_data] Downloading package stopwords to\n",
      "[nltk_data]     /Users/vankhaido/nltk_data...\n",
      "[nltk_data]   Package stopwords is already up-to-date!\n"
     ]
    }
   ],
   "source": [
    "#imports\n",
    "import pandas as pd\n",
    "import numpy as np\n",
    "import tensorflow as tf\n",
    "from keras.models import Sequential\n",
    "from keras.layers import Embedding, LSTM, Dense, Dropout\n",
    "from keras.initializers import Constant\n",
    "from keras.preprocessing.text import Tokenizer\n",
    "from keras.preprocessing.sequence import pad_sequences\n",
    "from tqdm import tqdm\n",
    "from keras.layers import Dense,SpatialDropout1D\n",
    "import contractions\n",
    "import re \n",
    "import nltk\n",
    "nltk.download('punkt')\n",
    "nltk.download('averaged_perceptron_tagger')\n",
    "# initializing Stop words libraries\n",
    "nltk.download('stopwords')\n",
    "from nltk.corpus import stopwords\n",
    "stop_words = set(stopwords.words('english'))\n",
    "from nltk.tokenize import word_tokenize"
   ]
  },
  {
   "cell_type": "code",
   "execution_count": 8,
   "metadata": {},
   "outputs": [
    {
     "data": {
      "text/html": [
       "<div>\n",
       "<style scoped>\n",
       "    .dataframe tbody tr th:only-of-type {\n",
       "        vertical-align: middle;\n",
       "    }\n",
       "\n",
       "    .dataframe tbody tr th {\n",
       "        vertical-align: top;\n",
       "    }\n",
       "\n",
       "    .dataframe thead th {\n",
       "        text-align: right;\n",
       "    }\n",
       "</style>\n",
       "<table border=\"1\" class=\"dataframe\">\n",
       "  <thead>\n",
       "    <tr style=\"text-align: right;\">\n",
       "      <th></th>\n",
       "      <th>index</th>\n",
       "      <th>id</th>\n",
       "      <th>jobTitle</th>\n",
       "      <th>location</th>\n",
       "      <th>company</th>\n",
       "      <th>type</th>\n",
       "      <th>description</th>\n",
       "      <th>lang</th>\n",
       "    </tr>\n",
       "  </thead>\n",
       "  <tbody>\n",
       "    <tr>\n",
       "      <th>0</th>\n",
       "      <td>0</td>\n",
       "      <td>2975673294</td>\n",
       "      <td>Data Engineer in Business Intelligence Team (B...</td>\n",
       "      <td>Ho Chi Minh City, Ho Chi Minh City, Vietnam</td>\n",
       "      <td>Agoda</td>\n",
       "      <td>Full-time · Entry level</td>\n",
       "      <td>About the job About Agoda  Agoda is an online ...</td>\n",
       "      <td>en</td>\n",
       "    </tr>\n",
       "    <tr>\n",
       "      <th>1</th>\n",
       "      <td>1</td>\n",
       "      <td>2993666500</td>\n",
       "      <td>Business Intelligence Intern, Kobiton</td>\n",
       "      <td>Ho Chi Minh City, Ho Chi Minh City, Vietnam</td>\n",
       "      <td>KMS Technology, Inc.</td>\n",
       "      <td>Internship · Internship</td>\n",
       "      <td>About the job This job is sourced from a job b...</td>\n",
       "      <td>en</td>\n",
       "    </tr>\n",
       "    <tr>\n",
       "      <th>2</th>\n",
       "      <td>2</td>\n",
       "      <td>2975674182</td>\n",
       "      <td>Business Intelligence Developer, Product Team ...</td>\n",
       "      <td>Ho Chi Minh City, Ho Chi Minh City, Vietnam</td>\n",
       "      <td>Agoda</td>\n",
       "      <td>Full-time · Associate</td>\n",
       "      <td>About the job About Agoda  Agoda is an online ...</td>\n",
       "      <td>en</td>\n",
       "    </tr>\n",
       "    <tr>\n",
       "      <th>3</th>\n",
       "      <td>3</td>\n",
       "      <td>2993740820</td>\n",
       "      <td>Business Intelligence (Edtech Company, Upto 10...</td>\n",
       "      <td>Hanoi, Hanoi, Vietnam</td>\n",
       "      <td>X3english Limited Company</td>\n",
       "      <td>₫15,000,000/month - ₫23,000,000/month · Full-t...</td>\n",
       "      <td>About the job This job is sourced from a job b...</td>\n",
       "      <td>en</td>\n",
       "    </tr>\n",
       "    <tr>\n",
       "      <th>4</th>\n",
       "      <td>4</td>\n",
       "      <td>2945707463</td>\n",
       "      <td>Senior Business Intelligence Analyst (0824)</td>\n",
       "      <td>Hanoi, Hanoi, Vietnam</td>\n",
       "      <td>Techcombank (TCB)</td>\n",
       "      <td>Full-time · Associate</td>\n",
       "      <td>About the job Job Purpose The Job Holder Respo...</td>\n",
       "      <td>en</td>\n",
       "    </tr>\n",
       "    <tr>\n",
       "      <th>...</th>\n",
       "      <td>...</td>\n",
       "      <td>...</td>\n",
       "      <td>...</td>\n",
       "      <td>...</td>\n",
       "      <td>...</td>\n",
       "      <td>...</td>\n",
       "      <td>...</td>\n",
       "      <td>...</td>\n",
       "    </tr>\n",
       "    <tr>\n",
       "      <th>427</th>\n",
       "      <td>16</td>\n",
       "      <td>2990265063</td>\n",
       "      <td>Database Administrator (DBA), based in Da Nang</td>\n",
       "      <td>Đà Nang, Da Nang City, Vietnam</td>\n",
       "      <td>KMS Technology, Inc.</td>\n",
       "      <td>Full-time · Associate</td>\n",
       "      <td>About the job As a senior DBA you will have to...</td>\n",
       "      <td>en</td>\n",
       "    </tr>\n",
       "    <tr>\n",
       "      <th>428</th>\n",
       "      <td>17</td>\n",
       "      <td>3008519916</td>\n",
       "      <td>Junior/Senior Database Administrator (DBA)</td>\n",
       "      <td>Ho Chi Minh City, Ho Chi Minh City, Vietnam</td>\n",
       "      <td>KMS Technology, Inc.</td>\n",
       "      <td>Full-time · Mid-Senior level</td>\n",
       "      <td>About the job As a senior DBA you will have to...</td>\n",
       "      <td>en</td>\n",
       "    </tr>\n",
       "    <tr>\n",
       "      <th>429</th>\n",
       "      <td>18</td>\n",
       "      <td>2698740162</td>\n",
       "      <td>[Local Product] Database Administrator</td>\n",
       "      <td>Ho Chi Minh City, Ho Chi Minh City, Vietnam</td>\n",
       "      <td>Shopee</td>\n",
       "      <td>Full-time · Mid-Senior level</td>\n",
       "      <td>About the job About The Team  The Product Deve...</td>\n",
       "      <td>en</td>\n",
       "    </tr>\n",
       "    <tr>\n",
       "      <th>430</th>\n",
       "      <td>19</td>\n",
       "      <td>2973389208</td>\n",
       "      <td>[Local Product] Database Administrator (MySQL,...</td>\n",
       "      <td>Ho Chi Minh City, Ho Chi Minh City, Vietnam</td>\n",
       "      <td>Shopee</td>\n",
       "      <td>Full-time · Entry level</td>\n",
       "      <td>About the job What Will You Do Responsible for...</td>\n",
       "      <td>en</td>\n",
       "    </tr>\n",
       "    <tr>\n",
       "      <th>431</th>\n",
       "      <td>20</td>\n",
       "      <td>2990260544</td>\n",
       "      <td>Senior Database Administrator (DBA), based in ...</td>\n",
       "      <td>Đà Nang, Da Nang City, Vietnam</td>\n",
       "      <td>KMS Technology, Inc.</td>\n",
       "      <td>Full-time · Mid-Senior level</td>\n",
       "      <td>About the job As a senior DBA you will have to...</td>\n",
       "      <td>en</td>\n",
       "    </tr>\n",
       "  </tbody>\n",
       "</table>\n",
       "<p>432 rows × 8 columns</p>\n",
       "</div>"
      ],
      "text/plain": [
       "     index          id                                           jobTitle  \\\n",
       "0        0  2975673294  Data Engineer in Business Intelligence Team (B...   \n",
       "1        1  2993666500              Business Intelligence Intern, Kobiton   \n",
       "2        2  2975674182  Business Intelligence Developer, Product Team ...   \n",
       "3        3  2993740820  Business Intelligence (Edtech Company, Upto 10...   \n",
       "4        4  2945707463        Senior Business Intelligence Analyst (0824)   \n",
       "..     ...         ...                                                ...   \n",
       "427     16  2990265063     Database Administrator (DBA), based in Da Nang   \n",
       "428     17  3008519916         Junior/Senior Database Administrator (DBA)   \n",
       "429     18  2698740162             [Local Product] Database Administrator   \n",
       "430     19  2973389208  [Local Product] Database Administrator (MySQL,...   \n",
       "431     20  2990260544  Senior Database Administrator (DBA), based in ...   \n",
       "\n",
       "                                        location                    company  \\\n",
       "0    Ho Chi Minh City, Ho Chi Minh City, Vietnam                      Agoda   \n",
       "1    Ho Chi Minh City, Ho Chi Minh City, Vietnam       KMS Technology, Inc.   \n",
       "2    Ho Chi Minh City, Ho Chi Minh City, Vietnam                      Agoda   \n",
       "3                          Hanoi, Hanoi, Vietnam  X3english Limited Company   \n",
       "4                          Hanoi, Hanoi, Vietnam          Techcombank (TCB)   \n",
       "..                                           ...                        ...   \n",
       "427               Đà Nang, Da Nang City, Vietnam       KMS Technology, Inc.   \n",
       "428  Ho Chi Minh City, Ho Chi Minh City, Vietnam       KMS Technology, Inc.   \n",
       "429  Ho Chi Minh City, Ho Chi Minh City, Vietnam                     Shopee   \n",
       "430  Ho Chi Minh City, Ho Chi Minh City, Vietnam                     Shopee   \n",
       "431               Đà Nang, Da Nang City, Vietnam       KMS Technology, Inc.   \n",
       "\n",
       "                                                  type  \\\n",
       "0                              Full-time · Entry level   \n",
       "1                              Internship · Internship   \n",
       "2                                Full-time · Associate   \n",
       "3    ₫15,000,000/month - ₫23,000,000/month · Full-t...   \n",
       "4                                Full-time · Associate   \n",
       "..                                                 ...   \n",
       "427                              Full-time · Associate   \n",
       "428                       Full-time · Mid-Senior level   \n",
       "429                       Full-time · Mid-Senior level   \n",
       "430                            Full-time · Entry level   \n",
       "431                       Full-time · Mid-Senior level   \n",
       "\n",
       "                                           description lang  \n",
       "0    About the job About Agoda  Agoda is an online ...   en  \n",
       "1    About the job This job is sourced from a job b...   en  \n",
       "2    About the job About Agoda  Agoda is an online ...   en  \n",
       "3    About the job This job is sourced from a job b...   en  \n",
       "4    About the job Job Purpose The Job Holder Respo...   en  \n",
       "..                                                 ...  ...  \n",
       "427  About the job As a senior DBA you will have to...   en  \n",
       "428  About the job As a senior DBA you will have to...   en  \n",
       "429  About the job About The Team  The Product Deve...   en  \n",
       "430  About the job What Will You Do Responsible for...   en  \n",
       "431  About the job As a senior DBA you will have to...   en  \n",
       "\n",
       "[432 rows x 8 columns]"
      ]
     },
     "execution_count": 8,
     "metadata": {},
     "output_type": "execute_result"
    }
   ],
   "source": [
    "def clean(desc):\n",
    "    desc = contractions.fix(desc)\n",
    "    desc = re.sub(\"[!@.$\\'\\'':()]\", \"\", desc)\n",
    "    return desc\n",
    "\n",
    "def tokenize_and_tag(desc):\n",
    "    tokens = nltk.word_tokenize(desc.lower())\n",
    "    filtered_tokens = [w for w in tokens if not w in stop_words]\n",
    "    tagged = nltk.pos_tag(filtered_tokens)\n",
    "    return tagged\n",
    "\n",
    "df_DS['description'] = df_DS['description'].apply(lambda x: re.sub(r'[!;,\\s]', ' ', x))\n",
    "df_DS"
   ]
  },
  {
   "cell_type": "code",
   "execution_count": 10,
   "metadata": {},
   "outputs": [],
   "source": [
    "import re\n",
    "import pandas as pd\n",
    "import spacy\n",
    "from spacy.util import filter_spans\n",
    "from spacy.tokens import Span\n",
    "from spacy.matcher import Matcher\n",
    "from spacy import displacy\n",
    "from IPython.display import HTML, display\n",
    "import en_core_web_sm\n",
    "nlp = en_core_web_sm.load()"
   ]
  },
  {
   "cell_type": "code",
   "execution_count": 11,
   "metadata": {},
   "outputs": [],
   "source": [
    "def highlight_terms(terms, texts):\n",
    "    for doc in nlp.pipe(texts):\n",
    "        for sentence in set([tok.sent for tok in doc if tok.lower_ in terms]):\n",
    "            text = sentence.text.strip()\n",
    "            markup = re.sub(fr'(?i)\\b({\"|\".join(terms)})\\b', r'<strong>\\1</strong>', text)\n",
    "            display(HTML(markup))\n",
    "            print('-----')\n",
    "\n"
   ]
  },
  {
   "cell_type": "code",
   "execution_count": 22,
   "metadata": {},
   "outputs": [],
   "source": [
    "matcher = Matcher(nlp.vocab)\n",
    "pattern = [{'POS': 'NOUN', 'OP': '+'}, {'LOWER': 'skill'}]\n",
    "matcher.add('skill_noun', [pattern])\n",
    "\n",
    "# pattern = [{'POS': 'NOUN', 'OP': '+'}, {'LOWER': 'knowledge'}]\n",
    "# matcher.add('knowledge_noun', [pattern])\n",
    "\n",
    "pattern = [{'LOWER': 'knowledge'}, {'POS': 'ADP'}, {'POS': {'IN': ('DET', 'NOUN', 'PROPN')}, 'OP': '+'}]\n",
    "matcher.add('knowledge_adp', [pattern])"
   ]
  },
  {
   "cell_type": "code",
   "execution_count": 26,
   "metadata": {},
   "outputs": [],
   "source": [
    "def show_extraction(examples, *extractors):\n",
    "    seen = set()\n",
    "    for doc in nlp.pipe(examples):\n",
    "        doc.ents = filter_spans([Span(doc, start, end, label) for extractor in extractors for label, start, end in extractor(doc)])\n",
    "        for tok in doc:\n",
    "            if tok.lower_ == 'skill':\n",
    "                sentence = tok.sent\n",
    "                if sentence.text in seen:\n",
    "                    continue\n",
    "                seen.update([sentence.text])\n",
    "                if not sentence.ents:\n",
    "                    doc.ents = list(doc.ents) + [Span(doc, tok.i, tok.i+1, 'MISSING')]\n",
    "                displacy.render(sentence, style='ent', options = {'colors': {'MISSING': 'pink',\n",
    "                                                                            'SKILL': 'lightgreen'}})\n",
    "            if tok.lower_ == 'knowledge':\n",
    "                sentence = tok.sent\n",
    "                if sentence.text in seen:\n",
    "                    continue\n",
    "                seen.update([sentence.text])\n",
    "                if not sentence.ents:\n",
    "                    doc.ents = list(doc.ents) + [Span(doc, tok.i, tok.i+1, 'MISSING')]\n",
    "                displacy.render(sentence, style='ent', options = {'colors': {'MISSING': 'pink',\n",
    "                                                                            'KNOWLEDGE': 'lightgreen'}})\n",
    "\n",
    "def get_extractions(examples, *extractors):\n",
    "    # Could use context instead of enumerate\n",
    "    for idx, doc in enumerate(nlp.pipe(examples, batch_size=100, disable=['ner'])):\n",
    "        for ent in filter_spans([Span(doc, start, end, label) for extractor in extractors for label, start, end in extractor(doc)]):\n",
    "            sent = ent.root.sent\n",
    "            yield ent.text, idx, ent.start, ent.end, ent.label_, sent.start, sent.end"
   ]
  },
  {
   "cell_type": "code",
   "execution_count": 27,
   "metadata": {},
   "outputs": [
    {
     "data": {
      "text/html": [
       "<span class=\"tex2jax_ignore\"><div class=\"entities\" style=\"line-height: 2.5; direction: ltr\">We hire the brightest minds from around the world to take on this challenge and equip them with the \n",
       "<mark class=\"entity\" style=\"background: pink; padding: 0.45em 0.6em; margin: 0 0.25em; line-height: 1; border-radius: 0.35em;\">\n",
       "    knowledge\n",
       "    <span style=\"font-size: 0.8em; font-weight: bold; line-height: 1; border-radius: 0.35em; vertical-align: middle; margin-left: 0.5rem\">MISSING</span>\n",
       "</mark>\n",
       " and tools that contribute to their personal growth and success while supporting our company’s culture of diversity and experimentation. </div></span>"
      ],
      "text/plain": [
       "<IPython.core.display.HTML object>"
      ]
     },
     "metadata": {},
     "output_type": "display_data"
    },
    {
     "data": {
      "text/html": [
       "<span class=\"tex2jax_ignore\"><div class=\"entities\" style=\"line-height: 2.5; direction: ltr\">Tensorflow) Experience with third-party libraries and APIs Experience with automate operation tasks with Shell Script  Python \n",
       "<mark class=\"entity\" style=\"background: #ddd; padding: 0.45em 0.6em; margin: 0 0.25em; line-height: 1; border-radius: 0.35em;\">\n",
       "    Knowledge in business analysis\n",
       "    <span style=\"font-size: 0.8em; font-weight: bold; line-height: 1; border-radius: 0.35em; vertical-align: middle; margin-left: 0.5rem\">knowledge_adp</span>\n",
       "</mark>\n",
       " or data modeling Hungry to learn new tools  languages and technologies  #sydney #kyiv #melbourne #london #tokyo #dhaka #edinburgh #amsterdam #munich #moscow #dublin #seoul #hcmc #telaviv #moscow #taipei #manila  Equal Opportunity Employer  At Agoda  we pride ourselves on being a company represented by people of all different backgrounds and orientations. </div></span>"
      ],
      "text/plain": [
       "<IPython.core.display.HTML object>"
      ]
     },
     "metadata": {},
     "output_type": "display_data"
    },
    {
     "data": {
      "text/html": [
       "<span class=\"tex2jax_ignore\"><div class=\"entities\" style=\"line-height: 2.5; direction: ltr\">Skills/\n",
       "<mark class=\"entity\" style=\"background: pink; padding: 0.45em 0.6em; margin: 0 0.25em; line-height: 1; border-radius: 0.35em;\">\n",
       "    knowledge\n",
       "    <span style=\"font-size: 0.8em; font-weight: bold; line-height: 1; border-radius: 0.35em; vertical-align: middle; margin-left: 0.5rem\">MISSING</span>\n",
       "</mark>\n",
       " you need to be successful: General: * 4th year/ new graduate students majoring in Computer Science/ Software Engineering/ related fields * Be READY to work full-time Technical skills: * Have experience in SQL  query optimization and business intelligence tools. </div></span>"
      ],
      "text/plain": [
       "<IPython.core.display.HTML object>"
      ]
     },
     "metadata": {},
     "output_type": "display_data"
    },
    {
     "data": {
      "text/html": [
       "<span class=\"tex2jax_ignore\"><div class=\"entities\" style=\"line-height: 2.5; direction: ltr\">* Advanced excel \n",
       "<mark class=\"entity\" style=\"background: pink; padding: 0.45em 0.6em; margin: 0 0.25em; line-height: 1; border-radius: 0.35em;\">\n",
       "    skill\n",
       "    <span style=\"font-size: 0.8em; font-weight: bold; line-height: 1; border-radius: 0.35em; vertical-align: middle; margin-left: 0.5rem\">MISSING</span>\n",
       "</mark>\n",
       " is a plus. </div></span>"
      ],
      "text/plain": [
       "<IPython.core.display.HTML object>"
      ]
     },
     "metadata": {},
     "output_type": "display_data"
    },
    {
     "data": {
      "text/html": [
       "<span class=\"tex2jax_ignore\"><div class=\"entities\" style=\"line-height: 2.5; direction: ltr\">* Good problem-solving \n",
       "<mark class=\"entity\" style=\"background: pink; padding: 0.45em 0.6em; margin: 0 0.25em; line-height: 1; border-radius: 0.35em;\">\n",
       "    skill\n",
       "    <span style=\"font-size: 0.8em; font-weight: bold; line-height: 1; border-radius: 0.35em; vertical-align: middle; margin-left: 0.5rem\">MISSING</span>\n",
       "</mark>\n",
       ". </div></span>"
      ],
      "text/plain": [
       "<IPython.core.display.HTML object>"
      ]
     },
     "metadata": {},
     "output_type": "display_data"
    },
    {
     "data": {
      "text/html": [
       "<span class=\"tex2jax_ignore\"><div class=\"entities\" style=\"line-height: 2.5; direction: ltr\"> In This Role  You’ll Get to  Works professionally to understand business questions or the requests and be able to suggest proper BI solution which is measurable and scalable Design and develop BI Solutions  Data warehouse &amp; data model on Big data platform (Hadoop/Vertica) using ETL tools (SSIS or in-house developed ETL)  OLAP  and dashboard (Tableau) Be responsive to work within a deadline Ensure delivered product achieve team’s standard quality checklist and always have visibility on it Keep catching up on BI technology and have up to date data insight with the team  What You’ll Need To Succeed  Bachelor’s or advance degree in IT/Statistic related field More than 3 years of experience in Business Intelligence area Fluent in English and Interpersonal skills Experience in ETL tools  data warehouse design  data modeling  and visualization Proficient \n",
       "<mark class=\"entity\" style=\"background: #ddd; padding: 0.45em 0.6em; margin: 0 0.25em; line-height: 1; border-radius: 0.35em;\">\n",
       "    knowledge of SQL\n",
       "    <span style=\"font-size: 0.8em; font-weight: bold; line-height: 1; border-radius: 0.35em; vertical-align: middle; margin-left: 0.5rem\">knowledge_adp</span>\n",
       "</mark>\n",
       " and Relational Database: able to write  execute and interpret queries Good time management and multitasking skills Self-motivation and ability to work well independently as part of the scrum team  It’s Great </div></span>"
      ],
      "text/plain": [
       "<IPython.core.display.HTML object>"
      ]
     },
     "metadata": {},
     "output_type": "display_data"
    },
    {
     "data": {
      "text/html": [
       "<span class=\"tex2jax_ignore\"><div class=\"entities\" style=\"line-height: 2.5; direction: ltr\">\n",
       "<mark class=\"entity\" style=\"background: #ddd; padding: 0.45em 0.6em; margin: 0 0.25em; line-height: 1; border-radius: 0.35em;\">\n",
       "    Knowledge of Modelling Languages\n",
       "    <span style=\"font-size: 0.8em; font-weight: bold; line-height: 1; border-radius: 0.35em; vertical-align: middle; margin-left: 0.5rem\">knowledge_adp</span>\n",
       "</mark>\n",
       " (R  Python) a plus. </div></span>"
      ],
      "text/plain": [
       "<IPython.core.display.HTML object>"
      ]
     },
     "metadata": {},
     "output_type": "display_data"
    },
    {
     "data": {
      "text/html": [
       "<span class=\"tex2jax_ignore\"><div class=\"entities\" style=\"line-height: 2.5; direction: ltr\">The successful candidate will work to ensure that the Finance department has the tools  models  data sources  and technical \n",
       "<mark class=\"entity\" style=\"background: pink; padding: 0.45em 0.6em; margin: 0 0.25em; line-height: 1; border-radius: 0.35em;\">\n",
       "    knowledge\n",
       "    <span style=\"font-size: 0.8em; font-weight: bold; line-height: 1; border-radius: 0.35em; vertical-align: middle; margin-left: 0.5rem\">MISSING</span>\n",
       "</mark>\n",
       " required to generate value added insights for senior leadership and enable success for the business. </div></span>"
      ],
      "text/plain": [
       "<IPython.core.display.HTML object>"
      ]
     },
     "metadata": {},
     "output_type": "display_data"
    },
    {
     "data": {
      "text/html": [
       "<span class=\"tex2jax_ignore\"><div class=\"entities\" style=\"line-height: 2.5; direction: ltr\"> This position is based in Bangkok – relocation provided for expat candidates **  In this role  you’ll get to:  Support the Finance community on data led insights as well as build reporting and analytical capabilities for the entire finance organization Assist the Commercial Finance team in the evaluation of emerging initiatives  investments  and major operational changes Analyze operational and financial performance trends  turning complex data into actionable insights Build strong connections across engineering and finance teams and become a trusted and proactive partner in supporting project delivery Create and maintain models  reports  dashboards as required by your stakeholders with well-written documentation in mind Continually optimize reports  processes  and procedures with scalability in mind Collaborate with engineering and product development teams on changes to/integration of new sources of data Empower end users to be self-reliant by facilitating knowledge sharing and enable skill development through effective training programs Be a thought leader around new technologies which may benefit the Commercial Finance team  What you’ll need to succeed:  Bachelor’s degree in IT  Mathematics  Statistics  Analytics or other relevant degrees 3+ years of experience with BI &amp; analytics tools (SQL  Tableau  Metabase or similar technologies) Experience in ETL tools  data modelling and have proficient \n",
       "<mark class=\"entity\" style=\"background: #ddd; padding: 0.45em 0.6em; margin: 0 0.25em; line-height: 1; border-radius: 0.35em;\">\n",
       "    knowledge of SQL\n",
       "    <span style=\"font-size: 0.8em; font-weight: bold; line-height: 1; border-radius: 0.35em; vertical-align: middle; margin-left: 0.5rem\">knowledge_adp</span>\n",
       "</mark>\n",
       " and Relational Databases: the ability to write  execute and interpret queries is essential Quick learner  problem-solving aptitude  effective prioritization  proactive and strong attention to detail High sense of </div></span>"
      ],
      "text/plain": [
       "<IPython.core.display.HTML object>"
      ]
     },
     "metadata": {},
     "output_type": "display_data"
    },
    {
     "data": {
      "text/html": [
       "<span class=\"tex2jax_ignore\"><div class=\"entities\" style=\"line-height: 2.5; direction: ltr\"> It’s great if you have:  Accounting/Financial knowledge and commercial acumen Solid technical/functional \n",
       "<mark class=\"entity\" style=\"background: #ddd; padding: 0.45em 0.6em; margin: 0 0.25em; line-height: 1; border-radius: 0.35em;\">\n",
       "    knowledge in statistics\n",
       "    <span style=\"font-size: 0.8em; font-weight: bold; line-height: 1; border-radius: 0.35em; vertical-align: middle; margin-left: 0.5rem\">knowledge_adp</span>\n",
       "</mark>\n",
       "  experience with R or Python or similar Familiarity with scrum/agile methodology Other helpful skills – \n",
       "<mark class=\"entity\" style=\"background: #ddd; padding: 0.45em 0.6em; margin: 0 0.25em; line-height: 1; border-radius: 0.35em;\">\n",
       "    ETL knowledge\n",
       "    <span style=\"font-size: 0.8em; font-weight: bold; line-height: 1; border-radius: 0.35em; vertical-align: middle; margin-left: 0.5rem\">knowledge_noun</span>\n",
       "</mark>\n",
       "  T-SQL  batch scripting  ODBC  data mining  Hadoop  #IT #FIN #3 #singapore #taipei #hongkong #kualalumpur #shanghai #manila #jakarta #seoul #tokyo #hanoi #mumbai #Phuket #bangkok #kualalumpur #hcmc #bangalore #newdelhi #jakarta #hanoi  data representation data analysis SQL data analytics analytics python (programming language) data mining data science r (programming language) tableau analytical skills data visualization databases business analysis business intelligence (bi) microsoft sql server machine learning statistics microsoft power bi java finance shopee traveloka google facebook ctrip trip.com makemytrip grab amazon pandas (software) artificial intelligence (ai) information technology capital one accenture upwork deloitte </div></span>"
      ],
      "text/plain": [
       "<IPython.core.display.HTML object>"
      ]
     },
     "metadata": {},
     "output_type": "display_data"
    },
    {
     "data": {
      "text/html": [
       "<span class=\"tex2jax_ignore\"><div class=\"entities\" style=\"line-height: 2.5; direction: ltr\">Good working \n",
       "<mark class=\"entity\" style=\"background: #ddd; padding: 0.45em 0.6em; margin: 0 0.25em; line-height: 1; border-radius: 0.35em;\">\n",
       "    knowledge of the technology products\n",
       "    <span style=\"font-size: 0.8em; font-weight: bold; line-height: 1; border-radius: 0.35em; vertical-align: middle; margin-left: 0.5rem\">knowledge_adp</span>\n",
       "</mark>\n",
       ". </div></span>"
      ],
      "text/plain": [
       "<IPython.core.display.HTML object>"
      ]
     },
     "metadata": {},
     "output_type": "display_data"
    },
    {
     "data": {
      "text/html": [
       "<span class=\"tex2jax_ignore\"><div class=\"entities\" style=\"line-height: 2.5; direction: ltr\">About the job Job Description Work closely with Business Intelligence Analysts to turn data into information that can be used to make sound business decisions Responsible for the full life cycle development  implementation  support of self-serve data products Design data mart or intermediate table structures and populate those structures with data from internal and external sources Improve business processes by enabling automated data collection and generation Liaise with regional Data Engineering team and Business Intelligence team on data availability and retrieval Review and grant user access right as per data privacy policy Review and automate manual processes if possible  Requirements Bachelor's Degree in Computer Science or Information Systems or any related field 3+ years of relevant working experience in Data Engineering \n",
       "<mark class=\"entity\" style=\"background: #ddd; padding: 0.45em 0.6em; margin: 0 0.25em; line-height: 1; border-radius: 0.35em;\">\n",
       "    Knowledge of Database Architecture\n",
       "    <span style=\"font-size: 0.8em; font-weight: bold; line-height: 1; border-radius: 0.35em; vertical-align: middle; margin-left: 0.5rem\">knowledge_adp</span>\n",
       "</mark>\n",
       " and Design Proficient in SQL and Python Ability to work in a fast-paced agile development environment</div></span>"
      ],
      "text/plain": [
       "<IPython.core.display.HTML object>"
      ]
     },
     "metadata": {},
     "output_type": "display_data"
    },
    {
     "data": {
      "text/html": [
       "<span class=\"tex2jax_ignore\"><div class=\"entities\" style=\"line-height: 2.5; direction: ltr\">Play as the key interface among finance operations team  BI  Business transformance to provide essential communication  documentation  testing and system support for daily operations and projects Study current process and build up procedures for data integration in daily work including files (gsheet  excel  power bi…)  data for daily reconciliation and reports Identify and propose solution for process improvement including mitigate risk of cash loss  automation  Prioritise reporting timelines based on the financial impacts Ensure the reports are delivered on time with high level of accuracy  Requirements University degree of related fields A minimum of 1-3 years of relevant work experience  e-commerce or express logistics experience is preferable Able to drive and implement ideas to present findings in a fast-paced environment Strong analytical and problem-solving skill Excellent Microsoft and \n",
       "<mark class=\"entity\" style=\"background: #ddd; padding: 0.45em 0.6em; margin: 0 0.25em; line-height: 1; border-radius: 0.35em;\">\n",
       "    analytics tools skill\n",
       "    <span style=\"font-size: 0.8em; font-weight: bold; line-height: 1; border-radius: 0.35em; vertical-align: middle; margin-left: 0.5rem\">skill_noun</span>\n",
       "</mark>\n",
       " (PowerBI  google datastudio). </div></span>"
      ],
      "text/plain": [
       "<IPython.core.display.HTML object>"
      ]
     },
     "metadata": {},
     "output_type": "display_data"
    },
    {
     "data": {
      "text/html": [
       "<span class=\"tex2jax_ignore\"><div class=\"entities\" style=\"line-height: 2.5; direction: ltr\">About the job Job Description Perform a bridging role between the finance and data science team Create reporting frameworks for new product features in financial reports Provide solutions in extracting relevant data and information to represent the financial reporting requirements accurately Troubleshoot system-related issues through essential communication  walkthrough and testing Document process workflows and business logics Manage stakeholders’ needs  concerns and problems regarding changes  enhancements or fixes Think strategically and analytically about business  product and technical challenges Ensure the reports are delivered in time with the highest level of accuracy  Requirements Bachelor’s degree in Finance  Accounting  Economics  Business Administration and/or Business Analytics \n",
       "<mark class=\"entity\" style=\"background: #ddd; padding: 0.45em 0.6em; margin: 0 0.25em; line-height: 1; border-radius: 0.35em;\">\n",
       "    Knowledge of SQL\n",
       "    <span style=\"font-size: 0.8em; font-weight: bold; line-height: 1; border-radius: 0.35em; vertical-align: middle; margin-left: 0.5rem\">knowledge_adp</span>\n",
       "</mark>\n",
       " is a must  experience dealing with database is an advantage Robust data analytics and/or visualization skills  preferably with Python and/or Microsoft Power BI Effective team player and passion to serve Versatile and results-oriented in a fast- pace environment Strong analytical thinking and problem solving Excellent verbal and written communication and \n",
       "<mark class=\"entity\" style=\"background: #ddd; padding: 0.45em 0.6em; margin: 0 0.25em; line-height: 1; border-radius: 0.35em;\">\n",
       "    project management skill\n",
       "    <span style=\"font-size: 0.8em; font-weight: bold; line-height: 1; border-radius: 0.35em; vertical-align: middle; margin-left: 0.5rem\">skill_noun</span>\n",
       "</mark>\n",
       " Keen sense of ownership  drive and determination Dependability and a strong work ethic.</div></span>"
      ],
      "text/plain": [
       "<IPython.core.display.HTML object>"
      ]
     },
     "metadata": {},
     "output_type": "display_data"
    },
    {
     "data": {
      "text/html": [
       "<span class=\"tex2jax_ignore\"><div class=\"entities\" style=\"line-height: 2.5; direction: ltr\">Strong interpersonal skills including written and oral \n",
       "<mark class=\"entity\" style=\"background: #ddd; padding: 0.45em 0.6em; margin: 0 0.25em; line-height: 1; border-radius: 0.35em;\">\n",
       "    communication skill\n",
       "    <span style=\"font-size: 0.8em; font-weight: bold; line-height: 1; border-radius: 0.35em; vertical-align: middle; margin-left: 0.5rem\">skill_noun</span>\n",
       "</mark>\n",
       ". </div></span>"
      ],
      "text/plain": [
       "<IPython.core.display.HTML object>"
      ]
     },
     "metadata": {},
     "output_type": "display_data"
    },
    {
     "data": {
      "text/html": [
       "<span class=\"tex2jax_ignore\"><div class=\"entities\" style=\"line-height: 2.5; direction: ltr\">Consult business stakeholders (e.g. Logistics  Shopee Express  etc) to run analysis that lead to actionable insights to growth the business Lead the effort to communicate state of the business to stakeholders regularly with the purpose of enabling Shopee Vietnam team understand reasons behind the trends and provide insights to drive strategic decisions Support various business functions with the development and maintenance of various management reports  Requirements At least 1 year of experience in Business Intelligence or Data Analytics role with proven business impact Strong experience in SQL Advanced Excel skill with \n",
       "<mark class=\"entity\" style=\"background: #ddd; padding: 0.45em 0.6em; margin: 0 0.25em; line-height: 1; border-radius: 0.35em;\">\n",
       "    knowledge in Power Query\n",
       "    <span style=\"font-size: 0.8em; font-weight: bold; line-height: 1; border-radius: 0.35em; vertical-align: middle; margin-left: 0.5rem\">knowledge_adp</span>\n",
       "</mark>\n",
       "  Power Pivots Strong analytical thinking and ability to learn quickly with can do attitude Knowing statistical programming language (Python  R) to manipulate and draw insights from large data set is a plus Excellence written and verbal communication skills in English and Vietnamese Experience working with cross-functional teams to gather requirements and define the right metrics to describe the state of the business - both on a macro-level and a micro-level</div></span>"
      ],
      "text/plain": [
       "<IPython.core.display.HTML object>"
      ]
     },
     "metadata": {},
     "output_type": "display_data"
    },
    {
     "data": {
      "text/html": [
       "<span class=\"tex2jax_ignore\"><div class=\"entities\" style=\"line-height: 2.5; direction: ltr\">Discuss performance with category leaders and business leaders  understanding what is blocking them from reaching better performance or what they have done to realize good performance  • Leverage your data analyses  understanding of the business  \n",
       "<mark class=\"entity\" style=\"background: #ddd; padding: 0.45em 0.6em; margin: 0 0.25em; line-height: 1; border-radius: 0.35em;\">\n",
       "    country knowledge\n",
       "    <span style=\"font-size: 0.8em; font-weight: bold; line-height: 1; border-radius: 0.35em; vertical-align: middle; margin-left: 0.5rem\">knowledge_noun</span>\n",
       "</mark>\n",
       " and input from country teams  to come up with structural solutions for the issues the country teams face. </div></span>"
      ],
      "text/plain": [
       "<IPython.core.display.HTML object>"
      ]
     },
     "metadata": {},
     "output_type": "display_data"
    },
    {
     "data": {
      "text/html": [
       "<span class=\"tex2jax_ignore\"><div class=\"entities\" style=\"line-height: 2.5; direction: ltr\">• Strong SQL \n",
       "<mark class=\"entity\" style=\"background: pink; padding: 0.45em 0.6em; margin: 0 0.25em; line-height: 1; border-radius: 0.35em;\">\n",
       "    skill\n",
       "    <span style=\"font-size: 0.8em; font-weight: bold; line-height: 1; border-radius: 0.35em; vertical-align: middle; margin-left: 0.5rem\">MISSING</span>\n",
       "</mark>\n",
       "  as well as basic analytical tool such as SAS  SPSS  PowerBi  Tableau  QlikSense etc. • </div></span>"
      ],
      "text/plain": [
       "<IPython.core.display.HTML object>"
      ]
     },
     "metadata": {},
     "output_type": "display_data"
    },
    {
     "data": {
      "text/html": [
       "<span class=\"tex2jax_ignore\"><div class=\"entities\" style=\"line-height: 2.5; direction: ltr\">We believe that we all bring something unique to GSK and when we combine our \n",
       "<mark class=\"entity\" style=\"background: pink; padding: 0.45em 0.6em; margin: 0 0.25em; line-height: 1; border-radius: 0.35em;\">\n",
       "    knowledge\n",
       "    <span style=\"font-size: 0.8em; font-weight: bold; line-height: 1; border-radius: 0.35em; vertical-align: middle; margin-left: 0.5rem\">MISSING</span>\n",
       "</mark>\n",
       "  experiences and styles together  the impact is incredible. </div></span>"
      ],
      "text/plain": [
       "<IPython.core.display.HTML object>"
      ]
     },
     "metadata": {},
     "output_type": "display_data"
    },
    {
     "data": {
      "text/html": [
       "<span class=\"tex2jax_ignore\"><div class=\"entities\" style=\"line-height: 2.5; direction: ltr\">Consult business stakeholders (e.g. Business Development  Retail  Campaign  etc) to run analysis that lead to actionable Insights to growth the business Lead the effort to communicate state of the business to stakeholders regularly with the purpose of enabling Shopee Vietnam team understand reasons behind the trends and provide insight to drive strategic decisions Support various business functions with the development and maintenance of various management reports  Requirements 3-4 years of industry experience in Business Intelligence or Data Analytics role with proven business impact Experience working with cross-functional teams to gather requirements and define the right metrics to describe the state of the business - both on a macro-level and a micro-level Passion for creating highly usable and thorough dashboards/visualizations Strong analytical thinking and ability to learn quickly with can do attitude Advanced Excel skill with \n",
       "<mark class=\"entity\" style=\"background: #ddd; padding: 0.45em 0.6em; margin: 0 0.25em; line-height: 1; border-radius: 0.35em;\">\n",
       "    knowledge in Power Query\n",
       "    <span style=\"font-size: 0.8em; font-weight: bold; line-height: 1; border-radius: 0.35em; vertical-align: middle; margin-left: 0.5rem\">knowledge_adp</span>\n",
       "</mark>\n",
       "  Power Pivots Experience in mySQL is compulsory Knowing statistical programming language (Python  R) to manipulate and draw insights from large data set is a plus Excellence written and verbal communication skills in English and Vietnamese to coordinate with stakeholders from across the region</div></span>"
      ],
      "text/plain": [
       "<IPython.core.display.HTML object>"
      ]
     },
     "metadata": {},
     "output_type": "display_data"
    },
    {
     "data": {
      "text/html": [
       "<span class=\"tex2jax_ignore\"><div class=\"entities\" style=\"line-height: 2.5; direction: ltr\"> \n",
       "<mark class=\"entity\" style=\"background: #ddd; padding: 0.45em 0.6em; margin: 0 0.25em; line-height: 1; border-radius: 0.35em;\">\n",
       "    knowledge of statistics\n",
       "    <span style=\"font-size: 0.8em; font-weight: bold; line-height: 1; border-radius: 0.35em; vertical-align: middle; margin-left: 0.5rem\">knowledge_adp</span>\n",
       "</mark>\n",
       "  and experience using statistical packages for analyzing datasets (Excel  R  Python  etc.) </div></span>"
      ],
      "text/plain": [
       "<IPython.core.display.HTML object>"
      ]
     },
     "metadata": {},
     "output_type": "display_data"
    },
    {
     "data": {
      "text/html": [
       "<span class=\"tex2jax_ignore\"><div class=\"entities\" style=\"line-height: 2.5; direction: ltr\">Inspired and determined to use your skills and \n",
       "<mark class=\"entity\" style=\"background: pink; padding: 0.45em 0.6em; margin: 0 0.25em; line-height: 1; border-radius: 0.35em;\">\n",
       "    knowledge\n",
       "    <span style=\"font-size: 0.8em; font-weight: bold; line-height: 1; border-radius: 0.35em; vertical-align: middle; margin-left: 0.5rem\">MISSING</span>\n",
       "</mark>\n",
       " to serve business stakeholders on a timely basis Compensation And Benefits Work and learn from one of the best and brightest technology teams in Vietnam Be part of a winning team with exponential growth regionally  experience recruiting world-class talents Work directly with top-level managers and learn from the international group of experts Top market rate pay Generous comprehensive optional health insurance package for family Opportunity to get promoted to Business Intelligence Manager who will be in charge of making decision on business optimization</div></span>"
      ],
      "text/plain": [
       "<IPython.core.display.HTML object>"
      ]
     },
     "metadata": {},
     "output_type": "display_data"
    },
    {
     "data": {
      "text/html": [
       "<span class=\"tex2jax_ignore\"><div class=\"entities\" style=\"line-height: 2.5; direction: ltr\">Requirements Relevant experience in Business Intelligence or Data Analytics role Strong competency in using SQL Advanced Excel skill with \n",
       "<mark class=\"entity\" style=\"background: #ddd; padding: 0.45em 0.6em; margin: 0 0.25em; line-height: 1; border-radius: 0.35em;\">\n",
       "    knowledge in Power Query\n",
       "    <span style=\"font-size: 0.8em; font-weight: bold; line-height: 1; border-radius: 0.35em; vertical-align: middle; margin-left: 0.5rem\">knowledge_adp</span>\n",
       "</mark>\n",
       "  Power Pivots Strong business acumen  experience in driving business impact by working with cross-functional stakeholders Excellent written and verbal skills English and Vietnamese Experience in using HubSpot or relevant systems is an advantage. </div></span>"
      ],
      "text/plain": [
       "<IPython.core.display.HTML object>"
      ]
     },
     "metadata": {},
     "output_type": "display_data"
    },
    {
     "data": {
      "text/html": [
       "<span class=\"tex2jax_ignore\"><div class=\"entities\" style=\"line-height: 2.5; direction: ltr\">• You have \n",
       "<mark class=\"entity\" style=\"background: #ddd; padding: 0.45em 0.6em; margin: 0 0.25em; line-height: 1; border-radius: 0.35em;\">\n",
       "    knowledge of business process management\n",
       "    <span style=\"font-size: 0.8em; font-weight: bold; line-height: 1; border-radius: 0.35em; vertical-align: middle; margin-left: 0.5rem\">knowledge_adp</span>\n",
       "</mark>\n",
       " best practices &amp; business intelligence concepts. </div></span>"
      ],
      "text/plain": [
       "<IPython.core.display.HTML object>"
      ]
     },
     "metadata": {},
     "output_type": "display_data"
    },
    {
     "data": {
      "text/html": [
       "<span class=\"tex2jax_ignore\"><div class=\"entities\" style=\"line-height: 2.5; direction: ltr\"> \n",
       "<mark class=\"entity\" style=\"background: pink; padding: 0.45em 0.6em; margin: 0 0.25em; line-height: 1; border-radius: 0.35em;\">\n",
       "    Knowledge\n",
       "    <span style=\"font-size: 0.8em; font-weight: bold; line-height: 1; border-radius: 0.35em; vertical-align: middle; margin-left: 0.5rem\">MISSING</span>\n",
       "</mark>\n",
       " and skill / Kiến thức và kỹ năng Good at communication and presentation skills. </div></span>"
      ],
      "text/plain": [
       "<IPython.core.display.HTML object>"
      ]
     },
     "metadata": {},
     "output_type": "display_data"
    },
    {
     "data": {
      "text/html": [
       "<span class=\"tex2jax_ignore\"><div class=\"entities\" style=\"line-height: 2.5; direction: ltr\">Business mindset &amp; passion Data analysis and connecting the dot skills Strong proficiency in one of the following platforms: Excel  PowerPoint  SQL  Tableau  Google Analytics  DoubleClick DCM  Python  &amp; VBA Good thought \n",
       "<mark class=\"entity\" style=\"background: #ddd; padding: 0.45em 0.6em; margin: 0 0.25em; line-height: 1; border-radius: 0.35em;\">\n",
       "    visualization skills Knowledge\n",
       "    <span style=\"font-size: 0.8em; font-weight: bold; line-height: 1; border-radius: 0.35em; vertical-align: middle; margin-left: 0.5rem\">knowledge_noun</span>\n",
       "</mark>\n",
       " about Web 3.0 &amp; its applications (NFT  DAO  P2E </div></span>"
      ],
      "text/plain": [
       "<IPython.core.display.HTML object>"
      ]
     },
     "metadata": {},
     "output_type": "display_data"
    },
    {
     "data": {
      "text/html": [
       "<span class=\"tex2jax_ignore\"><div class=\"entities\" style=\"line-height: 2.5; direction: ltr\">\n",
       "<mark class=\"entity\" style=\"background: #ddd; padding: 0.45em 0.6em; margin: 0 0.25em; line-height: 1; border-radius: 0.35em;\">\n",
       "    Knowledge about the process\n",
       "    <span style=\"font-size: 0.8em; font-weight: bold; line-height: 1; border-radius: 0.35em; vertical-align: middle; margin-left: 0.5rem\">knowledge_adp</span>\n",
       "</mark>\n",
       " of a production company is a plus. </div></span>"
      ],
      "text/plain": [
       "<IPython.core.display.HTML object>"
      ]
     },
     "metadata": {},
     "output_type": "display_data"
    },
    {
     "data": {
      "text/html": [
       "<span class=\"tex2jax_ignore\"><div class=\"entities\" style=\"line-height: 2.5; direction: ltr\">English \n",
       "<mark class=\"entity\" style=\"background: #ddd; padding: 0.45em 0.6em; margin: 0 0.25em; line-height: 1; border-radius: 0.35em;\">\n",
       "    communication skill\n",
       "    <span style=\"font-size: 0.8em; font-weight: bold; line-height: 1; border-radius: 0.35em; vertical-align: middle; margin-left: 0.5rem\">skill_noun</span>\n",
       "</mark>\n",
       " is required. </div></span>"
      ],
      "text/plain": [
       "<IPython.core.display.HTML object>"
      ]
     },
     "metadata": {},
     "output_type": "display_data"
    },
    {
     "data": {
      "text/html": [
       "<span class=\"tex2jax_ignore\"><div class=\"entities\" style=\"line-height: 2.5; direction: ltr\">Collaborative and ability to Draw connections  translate problems into statement and come out with actions to solve business needs Proven strong business process-oriented Proven leading and managing \n",
       "<mark class=\"entity\" style=\"background: #ddd; padding: 0.45em 0.6em; margin: 0 0.25em; line-height: 1; border-radius: 0.35em;\">\n",
       "    people skill\n",
       "    <span style=\"font-size: 0.8em; font-weight: bold; line-height: 1; border-radius: 0.35em; vertical-align: middle; margin-left: 0.5rem\">skill_noun</span>\n",
       "</mark>\n",
       " Proficiency in communication and working with different stakeholders This position is subject to drug and alcohol testing  including pre-employment testing. </div></span>"
      ],
      "text/plain": [
       "<IPython.core.display.HTML object>"
      ]
     },
     "metadata": {},
     "output_type": "display_data"
    },
    {
     "data": {
      "text/html": [
       "<span class=\"tex2jax_ignore\"><div class=\"entities\" style=\"line-height: 2.5; direction: ltr\">Leverage your data analyses  understanding of the business  \n",
       "<mark class=\"entity\" style=\"background: #ddd; padding: 0.45em 0.6em; margin: 0 0.25em; line-height: 1; border-radius: 0.35em;\">\n",
       "    country knowledge\n",
       "    <span style=\"font-size: 0.8em; font-weight: bold; line-height: 1; border-radius: 0.35em; vertical-align: middle; margin-left: 0.5rem\">knowledge_noun</span>\n",
       "</mark>\n",
       " and input from country teams  to come up with structural solutions for the issues the country teams face. </div></span>"
      ],
      "text/plain": [
       "<IPython.core.display.HTML object>"
      ]
     },
     "metadata": {},
     "output_type": "display_data"
    },
    {
     "data": {
      "text/html": [
       "<span class=\"tex2jax_ignore\"><div class=\"entities\" style=\"line-height: 2.5; direction: ltr\">In-depth \n",
       "<mark class=\"entity\" style=\"background: #ddd; padding: 0.45em 0.6em; margin: 0 0.25em; line-height: 1; border-radius: 0.35em;\">\n",
       "    knowledge of assortment analysis\n",
       "    <span style=\"font-size: 0.8em; font-weight: bold; line-height: 1; border-radius: 0.35em; vertical-align: middle; margin-left: 0.5rem\">knowledge_adp</span>\n",
       "</mark>\n",
       "/operation  know how to prepare goods for customer needs • Strong \n",
       "<mark class=\"entity\" style=\"background: #ddd; padding: 0.45em 0.6em; margin: 0 0.25em; line-height: 1; border-radius: 0.35em;\">\n",
       "    knowledge of market dynamics\n",
       "    <span style=\"font-size: 0.8em; font-weight: bold; line-height: 1; border-radius: 0.35em; vertical-align: middle; margin-left: 0.5rem\">knowledge_adp</span>\n",
       "</mark>\n",
       "  eg what and how does the typical customer shop  what are specific nuances where customer behaviour is different from customers elsewhere • Strong project management skills to get target • </div></span>"
      ],
      "text/plain": [
       "<IPython.core.display.HTML object>"
      ]
     },
     "metadata": {},
     "output_type": "display_data"
    },
    {
     "data": {
      "text/html": [
       "<span class=\"tex2jax_ignore\"><div class=\"entities\" style=\"line-height: 2.5; direction: ltr\"> JOB REQUIREMENTS University degree in MIS  Economics  IT or related fields At least 5 year experience in Business Solution Delivery  Sales Strategy &amp; Analysis Good business financial \n",
       "<mark class=\"entity\" style=\"background: #ddd; padding: 0.45em 0.6em; margin: 0 0.25em; line-height: 1; border-radius: 0.35em;\">\n",
       "    analysis knowledge\n",
       "    <span style=\"font-size: 0.8em; font-weight: bold; line-height: 1; border-radius: 0.35em; vertical-align: middle; margin-left: 0.5rem\">knowledge_noun</span>\n",
       "</mark>\n",
       " and experience Strong \n",
       "<mark class=\"entity\" style=\"background: #ddd; padding: 0.45em 0.6em; margin: 0 0.25em; line-height: 1; border-radius: 0.35em;\">\n",
       "    knowledge of the business products\n",
       "    <span style=\"font-size: 0.8em; font-weight: bold; line-height: 1; border-radius: 0.35em; vertical-align: middle; margin-left: 0.5rem\">knowledge_adp</span>\n",
       "</mark>\n",
       " and services and their relative contribution to profitability  explain and discuss topics connected to data and insights findings  strong experience in consumer finance and data analytics Strong knowledge and experience with reporting tools  databases (DWH  SQL/PL etc)  Strong analytical skills with the ability to collect  organize  analyze  and disseminate significant amounts of information with attention to detail and accuracy Good \n",
       "<mark class=\"entity\" style=\"background: #ddd; padding: 0.45em 0.6em; margin: 0 0.25em; line-height: 1; border-radius: 0.35em;\">\n",
       "    knowledge of CTI\n",
       "    <span style=\"font-size: 0.8em; font-weight: bold; line-height: 1; border-radius: 0.35em; vertical-align: middle; margin-left: 0.5rem\">knowledge_adp</span>\n",
       "</mark>\n",
       "/Telephone infrastructure  routing strategies  inbound &amp; outbound campaigns  outbound processes  SIP  OCS  VOIP in banking &amp; finance is a plus Ability to interpret / analyze data / build modelling Good at presentation  negotiation  communication skills in English both written and spoken Demonstrated leadership  team building and performance management skills  COMPENSATIONS &amp; BENEFITS 13th </div></span>"
      ],
      "text/plain": [
       "<IPython.core.display.HTML object>"
      ]
     },
     "metadata": {},
     "output_type": "display_data"
    },
    {
     "data": {
      "text/html": [
       "<span class=\"tex2jax_ignore\"><div class=\"entities\" style=\"line-height: 2.5; direction: ltr\">Other tasks assigned by line manager  Qualifications: Education: High school diploma Experience: Previous data-related internship is a plus Skills/ \n",
       "<mark class=\"entity\" style=\"background: pink; padding: 0.45em 0.6em; margin: 0 0.25em; line-height: 1; border-radius: 0.35em;\">\n",
       "    Knowledge\n",
       "    <span style=\"font-size: 0.8em; font-weight: bold; line-height: 1; border-radius: 0.35em; vertical-align: middle; margin-left: 0.5rem\">MISSING</span>\n",
       "</mark>\n",
       ": Intermediate SQL (experience with BigQuery is a plus)  Data visualization tools (experience with Data Studio is a plus) </div></span>"
      ],
      "text/plain": [
       "<IPython.core.display.HTML object>"
      ]
     },
     "metadata": {},
     "output_type": "display_data"
    },
    {
     "data": {
      "text/html": [
       "<span class=\"tex2jax_ignore\"><div class=\"entities\" style=\"line-height: 2.5; direction: ltr\"> Intermediate Excel/Google Sheets  Experience with Python and Jupyter Notebook is a plus  Great English \n",
       "<mark class=\"entity\" style=\"background: pink; padding: 0.45em 0.6em; margin: 0 0.25em; line-height: 1; border-radius: 0.35em;\">\n",
       "    skill\n",
       "    <span style=\"font-size: 0.8em; font-weight: bold; line-height: 1; border-radius: 0.35em; vertical-align: middle; margin-left: 0.5rem\">MISSING</span>\n",
       "</mark>\n",
       " (IELTS 7 or higher)  Native in Vietnamese  Effective verbal and written communication  Intra-team and cross-team collaboration  Attitude: Detail-oriented  responsible  curious  independent  quick to pivot. </div></span>"
      ],
      "text/plain": [
       "<IPython.core.display.HTML object>"
      ]
     },
     "metadata": {},
     "output_type": "display_data"
    },
    {
     "data": {
      "text/html": [
       "<span class=\"tex2jax_ignore\"><div class=\"entities\" style=\"line-height: 2.5; direction: ltr\">By prioritizing \n",
       "<mark class=\"entity\" style=\"background: pink; padding: 0.45em 0.6em; margin: 0 0.25em; line-height: 1; border-radius: 0.35em;\">\n",
       "    skill\n",
       "    <span style=\"font-size: 0.8em; font-weight: bold; line-height: 1; border-radius: 0.35em; vertical-align: middle; margin-left: 0.5rem\">MISSING</span>\n",
       "</mark>\n",
       " and potential  we have cultivated a powerful assembly of professionals through our drive for equal opportunity and diversity. </div></span>"
      ],
      "text/plain": [
       "<IPython.core.display.HTML object>"
      ]
     },
     "metadata": {},
     "output_type": "display_data"
    },
    {
     "data": {
      "text/html": [
       "<span class=\"tex2jax_ignore\"><div class=\"entities\" style=\"line-height: 2.5; direction: ltr\">Experience Requirements 3 to 6 years of relevant experience in data-related roles Experience in data management  ETL and analysis functions Experience with data analysis and BI tools such as Tableau  QlikView  Spark Basic \n",
       "<mark class=\"entity\" style=\"background: #ddd; padding: 0.45em 0.6em; margin: 0 0.25em; line-height: 1; border-radius: 0.35em;\">\n",
       "    knowledge on Python\n",
       "    <span style=\"font-size: 0.8em; font-weight: bold; line-height: 1; border-radius: 0.35em; vertical-align: middle; margin-left: 0.5rem\">knowledge_adp</span>\n",
       "</mark>\n",
       "  SQL  Scala or Java Understands Agile principles  practices and Scrum methodologies Education requirements  Bachelor's degree in Statistics  Mathematics  Quantitative Analysis  Computer Science  Software Engineering or Information Technology  Contact Person Phuong Thao Nguyen Adecco</div></span>"
      ],
      "text/plain": [
       "<IPython.core.display.HTML object>"
      ]
     },
     "metadata": {},
     "output_type": "display_data"
    },
    {
     "data": {
      "text/html": [
       "<span class=\"tex2jax_ignore\"><div class=\"entities\" style=\"line-height: 2.5; direction: ltr\">\n",
       "<mark class=\"entity\" style=\"background: #ddd; padding: 0.45em 0.6em; margin: 0 0.25em; line-height: 1; border-radius: 0.35em;\">\n",
       "    Knowledge of SQL\n",
       "    <span style=\"font-size: 0.8em; font-weight: bold; line-height: 1; border-radius: 0.35em; vertical-align: middle; margin-left: 0.5rem\">knowledge_adp</span>\n",
       "</mark>\n",
       " is a must. </div></span>"
      ],
      "text/plain": [
       "<IPython.core.display.HTML object>"
      ]
     },
     "metadata": {},
     "output_type": "display_data"
    },
    {
     "data": {
      "text/html": [
       "<span class=\"tex2jax_ignore\"><div class=\"entities\" style=\"line-height: 2.5; direction: ltr\"> We’re looking for a Data Analyst to that can thrive in this environment and perform these responsibilities: Maintain and create simple data pipelines in data warehouse Support adhoc requests and explain findings to non-technical teams independently Build  design  and update dashboards based on business feedback Communicate well with other teams Requirements Bachelors degree in any science or technical field 2+ years experience in a related field Advanced in using SQL (any form of SQL) to manipulate data and perform analysis Understand and manipulate data quickly Why You'll Love Working Here Working in an emerging industry - FinTech - with many opportunities to learn new  valuable \n",
       "<mark class=\"entity\" style=\"background: pink; padding: 0.45em 0.6em; margin: 0 0.25em; line-height: 1; border-radius: 0.35em;\">\n",
       "    knowledge\n",
       "    <span style=\"font-size: 0.8em; font-weight: bold; line-height: 1; border-radius: 0.35em; vertical-align: middle; margin-left: 0.5rem\">MISSING</span>\n",
       "</mark>\n",
       " and experience Talented team with years of venture-backed startup and big tech experience so you'll get the best of both worlds: moving fast and shipping and strong teammates Young and dynamic environments that challenging hard things in Fintech and all contributions lead to products that have impacts on real customers. </div></span>"
      ],
      "text/plain": [
       "<IPython.core.display.HTML object>"
      ]
     },
     "metadata": {},
     "output_type": "display_data"
    },
    {
     "data": {
      "text/html": [
       "<span class=\"tex2jax_ignore\"><div class=\"entities\" style=\"line-height: 2.5; direction: ltr\">Analyze data  draw insights  and present results in a cohesive  intuitive  and simplistic manner to executive management Identify and implement continuous improvement opportunities throughout the data life cycle Mine data  clean data to devise and optimize our algorithms  models’ accuracy Standardize reports  centralize analysis format to enrich our \n",
       "<mark class=\"entity\" style=\"background: pink; padding: 0.45em 0.6em; margin: 0 0.25em; line-height: 1; border-radius: 0.35em;\">\n",
       "    knowledge\n",
       "    <span style=\"font-size: 0.8em; font-weight: bold; line-height: 1; border-radius: 0.35em; vertical-align: middle; margin-left: 0.5rem\">MISSING</span>\n",
       "</mark>\n",
       " repositories Training end users on new reports and dashboards Communicate and align with stakeholders on purpose and impact of analytical solutions on business. </div></span>"
      ],
      "text/plain": [
       "<IPython.core.display.HTML object>"
      ]
     },
     "metadata": {},
     "output_type": "display_data"
    },
    {
     "data": {
      "text/html": [
       "<span class=\"tex2jax_ignore\"><div class=\"entities\" style=\"line-height: 2.5; direction: ltr\">Requirements Data analysis – the ability to assess data sets and identify patterns and opportunities for improvement is the primary \n",
       "<mark class=\"entity\" style=\"background: pink; padding: 0.45em 0.6em; margin: 0 0.25em; line-height: 1; border-radius: 0.35em;\">\n",
       "    skill\n",
       "    <span style=\"font-size: 0.8em; font-weight: bold; line-height: 1; border-radius: 0.35em; vertical-align: middle; margin-left: 0.5rem\">MISSING</span>\n",
       "</mark>\n",
       " Presentation skills – is also an important skill as analysis need to present  &amp; make sense of their findings Communication skills – as have to rely heavily on both written and verbal communication to work with departments and personnel across teams and business lines </div></span>"
      ],
      "text/plain": [
       "<IPython.core.display.HTML object>"
      ]
     },
     "metadata": {},
     "output_type": "display_data"
    },
    {
     "data": {
      "text/html": [
       "<span class=\"tex2jax_ignore\"><div class=\"entities\" style=\"line-height: 2.5; direction: ltr\"> RESPONSIBILITIES  Work directly with product and engineering to analyse user behaviour throughout the ecommerce funnel and advise on opportunities to experiment and optimise the user experience Building a measurement framework for assessing the success of roll out of new features/functionalities Communicating with stakeholders on your insights and opportunities you’ve uncovered Advise on data tracking for new feature roll outs and new market launches  QUALIFICATIONS  5 years Proficient with SQL 5years Advanced Excel/Google Sheets 5years Proficient with Google Analytics 5 years + experience in data analytics - (ideally in product analytics) GA/GTM certified (preferred) Strong Communication Skills Strong interpersonal and stakeholder management skills \n",
       "<mark class=\"entity\" style=\"background: #ddd; padding: 0.45em 0.6em; margin: 0 0.25em; line-height: 1; border-radius: 0.35em;\">\n",
       "    Knowledge of event\n",
       "    <span style=\"font-size: 0.8em; font-weight: bold; line-height: 1; border-radius: 0.35em; vertical-align: middle; margin-left: 0.5rem\">knowledge_adp</span>\n",
       "</mark>\n",
       " tracking technologies and best practises Strong analytical skills - can tell an airtight story with data Experience with experiment design and statistical analysis Works effectively with cross functional teams to build trusted partnerships Excellent written and verbal communication skills Experience building measurement frameworks for product teams Expert at putting yourself in the customer's shoes to identify opportunities which you then quantify with data. </div></span>"
      ],
      "text/plain": [
       "<IPython.core.display.HTML object>"
      ]
     },
     "metadata": {},
     "output_type": "display_data"
    },
    {
     "data": {
      "text/html": [
       "<span class=\"tex2jax_ignore\"><div class=\"entities\" style=\"line-height: 2.5; direction: ltr\">Write research reports to transfer \n",
       "<mark class=\"entity\" style=\"background: pink; padding: 0.45em 0.6em; margin: 0 0.25em; line-height: 1; border-radius: 0.35em;\">\n",
       "    knowledge\n",
       "    <span style=\"font-size: 0.8em; font-weight: bold; line-height: 1; border-radius: 0.35em; vertical-align: middle; margin-left: 0.5rem\">MISSING</span>\n",
       "</mark>\n",
       ". </div></span>"
      ],
      "text/plain": [
       "<IPython.core.display.HTML object>"
      ]
     },
     "metadata": {},
     "output_type": "display_data"
    },
    {
     "data": {
      "text/html": [
       "<span class=\"tex2jax_ignore\"><div class=\"entities\" style=\"line-height: 2.5; direction: ltr\">Strong \n",
       "<mark class=\"entity\" style=\"background: pink; padding: 0.45em 0.6em; margin: 0 0.25em; line-height: 1; border-radius: 0.35em;\">\n",
       "    knowledge\n",
       "    <span style=\"font-size: 0.8em; font-weight: bold; line-height: 1; border-radius: 0.35em; vertical-align: middle; margin-left: 0.5rem\">MISSING</span>\n",
       "</mark>\n",
       " of and experience with reporting packages (matplotlib/seaborn  ggplot...) and other visualization tools (Tableau  DataStudio  Looker…). </div></span>"
      ],
      "text/plain": [
       "<IPython.core.display.HTML object>"
      ]
     },
     "metadata": {},
     "output_type": "display_data"
    },
    {
     "data": {
      "text/html": [
       "<span class=\"tex2jax_ignore\"><div class=\"entities\" style=\"line-height: 2.5; direction: ltr\">\n",
       "<mark class=\"entity\" style=\"background: #ddd; padding: 0.45em 0.6em; margin: 0 0.25em; line-height: 1; border-radius: 0.35em;\">\n",
       "    Knowledge of statistics\n",
       "    <span style=\"font-size: 0.8em; font-weight: bold; line-height: 1; border-radius: 0.35em; vertical-align: middle; margin-left: 0.5rem\">knowledge_adp</span>\n",
       "</mark>\n",
       " and experience using statistical packages for analyzing datasets (statsmodels  SciPy ... ). </div></span>"
      ],
      "text/plain": [
       "<IPython.core.display.HTML object>"
      ]
     },
     "metadata": {},
     "output_type": "display_data"
    },
    {
     "data": {
      "text/html": [
       "<span class=\"tex2jax_ignore\"><div class=\"entities\" style=\"line-height: 2.5; direction: ltr\">\n",
       "<mark class=\"entity\" style=\"background: #ddd; padding: 0.45em 0.6em; margin: 0 0.25em; line-height: 1; border-radius: 0.35em;\">\n",
       "    Knowledge of programming languages\n",
       "    <span style=\"font-size: 0.8em; font-weight: bold; line-height: 1; border-radius: 0.35em; vertical-align: middle; margin-left: 0.5rem\">knowledge_adp</span>\n",
       "</mark>\n",
       " like SQL Basic  Postgres  BigQuery  and Python. </div></span>"
      ],
      "text/plain": [
       "<IPython.core.display.HTML object>"
      ]
     },
     "metadata": {},
     "output_type": "display_data"
    },
    {
     "data": {
      "text/html": [
       "<span class=\"tex2jax_ignore\"><div class=\"entities\" style=\"line-height: 2.5; direction: ltr\">Good at \n",
       "<mark class=\"entity\" style=\"background: #ddd; padding: 0.45em 0.6em; margin: 0 0.25em; line-height: 1; border-radius: 0.35em;\">\n",
       "    analysis skill\n",
       "    <span style=\"font-size: 0.8em; font-weight: bold; line-height: 1; border-radius: 0.35em; vertical-align: middle; margin-left: 0.5rem\">skill_noun</span>\n",
       "</mark>\n",
       ". </div></span>"
      ],
      "text/plain": [
       "<IPython.core.display.HTML object>"
      ]
     },
     "metadata": {},
     "output_type": "display_data"
    },
    {
     "data": {
      "text/html": [
       "<span class=\"tex2jax_ignore\"><div class=\"entities\" style=\"line-height: 2.5; direction: ltr\">Good \n",
       "<mark class=\"entity\" style=\"background: #ddd; padding: 0.45em 0.6em; margin: 0 0.25em; line-height: 1; border-radius: 0.35em;\">\n",
       "    solving problem skill\n",
       "    <span style=\"font-size: 0.8em; font-weight: bold; line-height: 1; border-radius: 0.35em; vertical-align: middle; margin-left: 0.5rem\">skill_noun</span>\n",
       "</mark>\n",
       ". </div></span>"
      ],
      "text/plain": [
       "<IPython.core.display.HTML object>"
      ]
     },
     "metadata": {},
     "output_type": "display_data"
    },
    {
     "data": {
      "text/html": [
       "<span class=\"tex2jax_ignore\"><div class=\"entities\" style=\"line-height: 2.5; direction: ltr\">Ability to analyze huge sets of data  segment the data  and derive proper actions Deep dive to analyst current Merchants block issues and provide solutions to solve problems Other tasks assigned by Team Leader  Requirements Strong at data analytical \n",
       "<mark class=\"entity\" style=\"background: #ddd; padding: 0.45em 0.6em; margin: 0 0.25em; line-height: 1; border-radius: 0.35em;\">\n",
       "    skills Knowledge\n",
       "    <span style=\"font-size: 0.8em; font-weight: bold; line-height: 1; border-radius: 0.35em; vertical-align: middle; margin-left: 0.5rem\">knowledge_noun</span>\n",
       "</mark>\n",
       " SQL is a plus Strong at analyst for problems seeking &amp; solving Able to work rotating shifts on weekends Excellent written and verbal communication skills (English &amp; Vietnamese) </div></span>"
      ],
      "text/plain": [
       "<IPython.core.display.HTML object>"
      ]
     },
     "metadata": {},
     "output_type": "display_data"
    },
    {
     "data": {
      "text/html": [
       "<span class=\"tex2jax_ignore\"><div class=\"entities\" style=\"line-height: 2.5; direction: ltr\">Good \n",
       "<mark class=\"entity\" style=\"background: #ddd; padding: 0.45em 0.6em; margin: 0 0.25em; line-height: 1; border-radius: 0.35em;\">\n",
       "    communication skill\n",
       "    <span style=\"font-size: 0.8em; font-weight: bold; line-height: 1; border-radius: 0.35em; vertical-align: middle; margin-left: 0.5rem\">skill_noun</span>\n",
       "</mark>\n",
       " and \n",
       "<mark class=\"entity\" style=\"background: #ddd; padding: 0.45em 0.6em; margin: 0 0.25em; line-height: 1; border-radius: 0.35em;\">\n",
       "    stakeholder management skill\n",
       "    <span style=\"font-size: 0.8em; font-weight: bold; line-height: 1; border-radius: 0.35em; vertical-align: middle; margin-left: 0.5rem\">skill_noun</span>\n",
       "</mark>\n",
       " are must-haves. </div></span>"
      ],
      "text/plain": [
       "<IPython.core.display.HTML object>"
      ]
     },
     "metadata": {},
     "output_type": "display_data"
    },
    {
     "data": {
      "text/html": [
       "<span class=\"tex2jax_ignore\"><div class=\"entities\" style=\"line-height: 2.5; direction: ltr\">If You Have  \n",
       "<mark class=\"entity\" style=\"background: #ddd; padding: 0.45em 0.6em; margin: 0 0.25em; line-height: 1; border-radius: 0.35em;\">\n",
       "    Knowledge of machine learning algorithms\n",
       "    <span style=\"font-size: 0.8em; font-weight: bold; line-height: 1; border-radius: 0.35em; vertical-align: middle; margin-left: 0.5rem\">knowledge_adp</span>\n",
       "</mark>\n",
       " including classifiers  clustering algorithms  and anomaly detection is a plus #sanfrancisco #washdc #sydney #london #tokyo #amsterdam #munich #berlin #toronto #vancouver #moscow #dublin #seoul #hcmc #telaviv #taipei #IT #4  Equal Opportunity Employer  At Agoda  we pride ourselves on being a company represented by people of all different backgrounds and orientations. </div></span>"
      ],
      "text/plain": [
       "<IPython.core.display.HTML object>"
      ]
     },
     "metadata": {},
     "output_type": "display_data"
    },
    {
     "data": {
      "text/html": [
       "<span class=\"tex2jax_ignore\"><div class=\"entities\" style=\"line-height: 2.5; direction: ltr\">Independent learner  self-motivated  and willing to share \n",
       "<mark class=\"entity\" style=\"background: #ddd; padding: 0.45em 0.6em; margin: 0 0.25em; line-height: 1; border-radius: 0.35em;\">\n",
       "    knowledge with team members\n",
       "    <span style=\"font-size: 0.8em; font-weight: bold; line-height: 1; border-radius: 0.35em; vertical-align: middle; margin-left: 0.5rem\">knowledge_adp</span>\n",
       "</mark>\n",
       ". </div></span>"
      ],
      "text/plain": [
       "<IPython.core.display.HTML object>"
      ]
     },
     "metadata": {},
     "output_type": "display_data"
    },
    {
     "data": {
      "text/html": [
       "<span class=\"tex2jax_ignore\"><div class=\"entities\" style=\"line-height: 2.5; direction: ltr\">● Should have \n",
       "<mark class=\"entity\" style=\"background: pink; padding: 0.45em 0.6em; margin: 0 0.25em; line-height: 1; border-radius: 0.35em;\">\n",
       "    knowledge\n",
       "    <span style=\"font-size: 0.8em; font-weight: bold; line-height: 1; border-radius: 0.35em; vertical-align: middle; margin-left: 0.5rem\">MISSING</span>\n",
       "</mark>\n",
       " to understand Mechanical and Electrical components. </div></span>"
      ],
      "text/plain": [
       "<IPython.core.display.HTML object>"
      ]
     },
     "metadata": {},
     "output_type": "display_data"
    },
    {
     "data": {
      "text/html": [
       "<span class=\"tex2jax_ignore\"><div class=\"entities\" style=\"line-height: 2.5; direction: ltr\">Analyze data  draw insights  and present results in a cohesive  intuitive  and simplistic manner to executive management Identify and implement continuous improvement opportunities throughout the data life cycle Mine data  clean data to devise and optimize our algorithms  models’ accuracy Standardize reports  centralize analysis format to enrich our \n",
       "<mark class=\"entity\" style=\"background: pink; padding: 0.45em 0.6em; margin: 0 0.25em; line-height: 1; border-radius: 0.35em;\">\n",
       "    knowledge\n",
       "    <span style=\"font-size: 0.8em; font-weight: bold; line-height: 1; border-radius: 0.35em; vertical-align: middle; margin-left: 0.5rem\">MISSING</span>\n",
       "</mark>\n",
       " repositories Training end-users on new reports and dashboards Communicate and align with stakeholders on purpose and impact of analytical solutions on business. </div></span>"
      ],
      "text/plain": [
       "<IPython.core.display.HTML object>"
      ]
     },
     "metadata": {},
     "output_type": "display_data"
    },
    {
     "data": {
      "text/html": [
       "<span class=\"tex2jax_ignore\"><div class=\"entities\" style=\"line-height: 2.5; direction: ltr\">Competencies Required Data analysis – the ability to assess data sets and identify patterns and opportunities for improvement is commercial analyst’s primary \n",
       "<mark class=\"entity\" style=\"background: pink; padding: 0.45em 0.6em; margin: 0 0.25em; line-height: 1; border-radius: 0.35em;\">\n",
       "    skill\n",
       "    <span style=\"font-size: 0.8em; font-weight: bold; line-height: 1; border-radius: 0.35em; vertical-align: middle; margin-left: 0.5rem\">MISSING</span>\n",
       "</mark>\n",
       " Presentation skills – commercial analysts need to present their findings  along with forecasts and projections  to executives and management personnel  so effective presentation skills are a necessity Team coordination – because they work with sales teams and internal operation to drive revenue growth  commercial analysts need to coordinate team activities Communication skills – commercial analysts rely heavily on both written and verbal communication to work with departments and personnel across teams and business lines Requirement Bachelor’s degree in Statistics  Mathematics  Business or related degree. </div></span>"
      ],
      "text/plain": [
       "<IPython.core.display.HTML object>"
      ]
     },
     "metadata": {},
     "output_type": "display_data"
    },
    {
     "data": {
      "text/html": [
       "<span class=\"tex2jax_ignore\"><div class=\"entities\" style=\"line-height: 2.5; direction: ltr\">Excellent written and verbal communication skills  including ability to compose and present reports  findings and presentations Having extensive \n",
       "<mark class=\"entity\" style=\"background: #ddd; padding: 0.45em 0.6em; margin: 0 0.25em; line-height: 1; border-radius: 0.35em;\">\n",
       "    computer knowledge\n",
       "    <span style=\"font-size: 0.8em; font-weight: bold; line-height: 1; border-radius: 0.35em; vertical-align: middle; margin-left: 0.5rem\">knowledge_noun</span>\n",
       "</mark>\n",
       " including its software (Excel  Word  PowerPoint  Outlook  etc) Has SQL  Python experience is a plus Submit a job application  By applying to the job  you acknowledge that you have read  understood and agreed to our Privacy Policy Notice (the “Notice”) and consent to the collection  use and/or disclosure of your personal data by Ninja Logistics Pte Ltd (the “Company”) for the purposes set out in the Notice. </div></span>"
      ],
      "text/plain": [
       "<IPython.core.display.HTML object>"
      ]
     },
     "metadata": {},
     "output_type": "display_data"
    },
    {
     "data": {
      "text/html": [
       "<span class=\"tex2jax_ignore\"><div class=\"entities\" style=\"line-height: 2.5; direction: ltr\">Responsible for managing the research library Juggle multiple assignments and work in a high-pressure environment Manage time and establish priorities while maintaining flexibility to respond to changing demands Professionally and effectively communicate with clients and peers  demonstrating sound reasoning and judgment skills Seek clarity and assistance appropriately Articulate one's role on an integrated team and sets clear expectations for what will be delivered and what information and partnership is needed in order to achieve the mutually desired outcomes  Qualifications Statistics or Research background At least 2 years agency experience in research and/or social listening \n",
       "<mark class=\"entity\" style=\"background: pink; padding: 0.45em 0.6em; margin: 0 0.25em; line-height: 1; border-radius: 0.35em;\">\n",
       "    Knowledge\n",
       "    <span style=\"font-size: 0.8em; font-weight: bold; line-height: 1; border-radius: 0.35em; vertical-align: middle; margin-left: 0.5rem\">MISSING</span>\n",
       "</mark>\n",
       " in quantitative and qualitative research Ability to research and combine data Proficiency in using Excel  Access  SPSS Proficiency in PowerPoint. </div></span>"
      ],
      "text/plain": [
       "<IPython.core.display.HTML object>"
      ]
     },
     "metadata": {},
     "output_type": "display_data"
    },
    {
     "data": {
      "text/html": [
       "<span class=\"tex2jax_ignore\"><div class=\"entities\" style=\"line-height: 2.5; direction: ltr\">  Responsibilities  Interpret data  analyze results using statistical techniques and provide ongoing reports Develop and implement databases  data collection systems  data analytics and other strategies that optimize statistical efficiency and quality Acquire data from primary or secondary data sources and maintain databases/data systems Identify  analyze  and interpret trends or patterns in complex data sets Filter and “clean” data by reviewing computer reports  printouts  and performance indicators to locate and correct code problems Work with management to prioritize business and information needs  Qualifications  Proven working experience as a Data Analyst or Business Data Analyst Technical expertise regarding data models  database design development  data mining and segmentation techniques Strong \n",
       "<mark class=\"entity\" style=\"background: pink; padding: 0.45em 0.6em; margin: 0 0.25em; line-height: 1; border-radius: 0.35em;\">\n",
       "    knowledge\n",
       "    <span style=\"font-size: 0.8em; font-weight: bold; line-height: 1; border-radius: 0.35em; vertical-align: middle; margin-left: 0.5rem\">MISSING</span>\n",
       "</mark>\n",
       " of and experience with reporting packages (Business Objects etc.) </div></span>"
      ],
      "text/plain": [
       "<IPython.core.display.HTML object>"
      ]
     },
     "metadata": {},
     "output_type": "display_data"
    },
    {
     "data": {
      "text/html": [
       "<span class=\"tex2jax_ignore\"><div class=\"entities\" style=\"line-height: 2.5; direction: ltr\"> programming (XML  JavaScript  or ETL frameworks) \n",
       "<mark class=\"entity\" style=\"background: #ddd; padding: 0.45em 0.6em; margin: 0 0.25em; line-height: 1; border-radius: 0.35em;\">\n",
       "    Knowledge of statistics\n",
       "    <span style=\"font-size: 0.8em; font-weight: bold; line-height: 1; border-radius: 0.35em; vertical-align: middle; margin-left: 0.5rem\">knowledge_adp</span>\n",
       "</mark>\n",
       " and experience using statistical packages for analyzing datasets (Excel  SAS etc.) </div></span>"
      ],
      "text/plain": [
       "<IPython.core.display.HTML object>"
      ]
     },
     "metadata": {},
     "output_type": "display_data"
    },
    {
     "data": {
      "text/html": [
       "<span class=\"tex2jax_ignore\"><div class=\"entities\" style=\"line-height: 2.5; direction: ltr\">With 17 offices and 10 fulfilment centres across four continents  GFG proudly employs a dynamic and diverse team with deep local \n",
       "<mark class=\"entity\" style=\"background: pink; padding: 0.45em 0.6em; margin: 0 0.25em; line-height: 1; border-radius: 0.35em;\">\n",
       "    knowledge\n",
       "    <span style=\"font-size: 0.8em; font-weight: bold; line-height: 1; border-radius: 0.35em; vertical-align: middle; margin-left: 0.5rem\">MISSING</span>\n",
       "</mark>\n",
       " and expertise. </div></span>"
      ],
      "text/plain": [
       "<IPython.core.display.HTML object>"
      ]
     },
     "metadata": {},
     "output_type": "display_data"
    },
    {
     "data": {
      "text/html": [
       "<span class=\"tex2jax_ignore\"><div class=\"entities\" style=\"line-height: 2.5; direction: ltr\"> What Will You Bring To The Team BS/MS in Computer Science or related technical discipline Demonstrable \n",
       "<mark class=\"entity\" style=\"background: pink; padding: 0.45em 0.6em; margin: 0 0.25em; line-height: 1; border-radius: 0.35em;\">\n",
       "    knowledge\n",
       "    <span style=\"font-size: 0.8em; font-weight: bold; line-height: 1; border-radius: 0.35em; vertical-align: middle; margin-left: 0.5rem\">MISSING</span>\n",
       "</mark>\n",
       " and application of data mining  data analytics and statistical modelling 5+ years of proficiency in any of the following programming languages: Python  R 3+ years of proficiency in any of the following BI platforms: Tableau  AWS QuickSight  Google Data Studio  Power BI 4+ years of Experience with database and datawarehouse technologies Experience with AWS or GCP cloud technologies Good writing and verbal English communication skills 5+ years of Stakeholder management  What We Offer You The unique opportunity to have a serious impact on a growing organisation  A dynamic working environment shaping the face of fashion e-commerce in growth markets </div></span>"
      ],
      "text/plain": [
       "<IPython.core.display.HTML object>"
      ]
     },
     "metadata": {},
     "output_type": "display_data"
    },
    {
     "data": {
      "text/html": [
       "<span class=\"tex2jax_ignore\"><div class=\"entities\" style=\"line-height: 2.5; direction: ltr\">What You Need To Have A curious and confident soul who loves using data  At least 3 years of experience or multiple internships in an Analytics  Business Intelligence or Data Science role  preferably with large  complex  high velocity data  Strong foundation in data query/manipulation using SQL is a must  Strong working \n",
       "<mark class=\"entity\" style=\"background: #ddd; padding: 0.45em 0.6em; margin: 0 0.25em; line-height: 1; border-radius: 0.35em;\">\n",
       "    knowledge of data visualization\n",
       "    <span style=\"font-size: 0.8em; font-weight: bold; line-height: 1; border-radius: 0.35em; vertical-align: middle; margin-left: 0.5rem\">knowledge_adp</span>\n",
       "</mark>\n",
       " best practices is a must  Strong foundation using Big Data technologies (Spark  PySpark)  Experience in business  strategy and/or tech consulting would be an advantage  Passionate about solving problems - possesses a relentless drive for investigation and data exploration  Results and detail-oriented  with strong intuitions on how to solve problems creatively and quickly. </div></span>"
      ],
      "text/plain": [
       "<IPython.core.display.HTML object>"
      ]
     },
     "metadata": {},
     "output_type": "display_data"
    },
    {
     "data": {
      "text/html": [
       "<span class=\"tex2jax_ignore\"><div class=\"entities\" style=\"line-height: 2.5; direction: ltr\">  Responsibilities: · Conduct deep analyses about customers experience / behaviors that support personalization &amp; other data products · Own the design  development  and maintenance of ongoing metrics  reports  analyses  dashboards  etc. to drive key business decisions · Understand Cloud products and services (Google Analytics  Salesforces etc.) to track/report business performance and problem areas using appropriate metrics   PREFERRED QUALIFICATIONS: Bachelor's degree in any domain with 2+ years relevant experience in business analysis &amp; reporting \n",
       "<mark class=\"entity\" style=\"background: #ddd; padding: 0.45em 0.6em; margin: 0 0.25em; line-height: 1; border-radius: 0.35em;\">\n",
       "    Knowledge of ETL\n",
       "    <span style=\"font-size: 0.8em; font-weight: bold; line-height: 1; border-radius: 0.35em; vertical-align: middle; margin-left: 0.5rem\">knowledge_adp</span>\n",
       "</mark>\n",
       " and statistical analysis tools &amp; techniques Hands-on experience of SQL  designing dashboards using Data Studio and/or PowerBI Exposure to BigQuery and GCS will be an added \n",
       "<mark class=\"entity\" style=\"background: #ddd; padding: 0.45em 0.6em; margin: 0 0.25em; line-height: 1; border-radius: 0.35em;\">\n",
       "    advantage Knowledge\n",
       "    <span style=\"font-size: 0.8em; font-weight: bold; line-height: 1; border-radius: 0.35em; vertical-align: middle; margin-left: 0.5rem\">knowledge_noun</span>\n",
       "</mark>\n",
       " of statistical modelling &amp; ML techniques is a plus \n",
       "<mark class=\"entity\" style=\"background: #ddd; padding: 0.45em 0.6em; margin: 0 0.25em; line-height: 1; border-radius: 0.35em;\">\n",
       "    Knowledge of scripting languages\n",
       "    <span style=\"font-size: 0.8em; font-weight: bold; line-height: 1; border-radius: 0.35em; vertical-align: middle; margin-left: 0.5rem\">knowledge_adp</span>\n",
       "</mark>\n",
       " (Python  R) and/or web development is a big plus Familiar with Agile development methodology Good reporting skills &amp; communication Business acumen &amp; a good storytelling ability Self-motivation in learning new technologies Contact the job poster Jenny Nguyen 2nd </div></span>"
      ],
      "text/plain": [
       "<IPython.core.display.HTML object>"
      ]
     },
     "metadata": {},
     "output_type": "display_data"
    },
    {
     "data": {
      "text/html": [
       "<span class=\"tex2jax_ignore\"><div class=\"entities\" style=\"line-height: 2.5; direction: ltr\">Arcane public \n",
       "<mark class=\"entity\" style=\"background: #ddd; padding: 0.45em 0.6em; margin: 0 0.25em; line-height: 1; border-radius: 0.35em;\">\n",
       "    transport knowledge\n",
       "    <span style=\"font-size: 0.8em; font-weight: bold; line-height: 1; border-radius: 0.35em; vertical-align: middle; margin-left: 0.5rem\">knowledge_noun</span>\n",
       "</mark>\n",
       " with which to dazzle your friends. </div></span>"
      ],
      "text/plain": [
       "<IPython.core.display.HTML object>"
      ]
     },
     "metadata": {},
     "output_type": "display_data"
    },
    {
     "data": {
      "text/html": [
       "<span class=\"tex2jax_ignore\"><div class=\"entities\" style=\"line-height: 2.5; direction: ltr\">WHAT WILL YOU BRING TO THE TEAM  BS/MS in Computer Science or related technical discipline Demonstrable \n",
       "<mark class=\"entity\" style=\"background: pink; padding: 0.45em 0.6em; margin: 0 0.25em; line-height: 1; border-radius: 0.35em;\">\n",
       "    knowledge\n",
       "    <span style=\"font-size: 0.8em; font-weight: bold; line-height: 1; border-radius: 0.35em; vertical-align: middle; margin-left: 0.5rem\">MISSING</span>\n",
       "</mark>\n",
       " and application of data mining  data analytics and statistical modelling 5+ years of proficiency in any of the following programming languages: </div></span>"
      ],
      "text/plain": [
       "<IPython.core.display.HTML object>"
      ]
     },
     "metadata": {},
     "output_type": "display_data"
    },
    {
     "data": {
      "text/html": [
       "<span class=\"tex2jax_ignore\"><div class=\"entities\" style=\"line-height: 2.5; direction: ltr\">The main tasks include  but are not limited to: Building  developing  and maintaining automated dashboards to monitor performance metrics Monitoring data quality to ensure data sources are reliable and relevant for the team’s purposes Analyzing complex data to drive insightful findings and translating them into meaningful  actionable recommendations for our stakeholders Designing and implementing solutions and best-practices  with automation and scalability in mind  to empower end-users to become self-reliant Collaborating with internal team to consolidate requirements  understand business needs  and deliver projects in a timely manner Ad-hoc Reporting &amp; Data Analysis duties or other responsibilities as required Types of projects include: customer segmentation  analyses to enhance user acquisition  engagement  conversion  retention  reporting standardization  gamification  A/B testing &amp; experimentation analysis for product development and optimization Qualifications University degree (BA  BSc  etc.) in a quantitative discipline such as Statistics  Computer Science  Mathematics  Information Management  or University degree with quantitative/statistics coursework such as Business  Economics  Marketing  or relevant fields Excellent analytical skills and problem-solving aptitude Ability to collect  organize  and analyze significant amounts of data with high attention to detail Ability to visualize findings  create meaningful insights  and arrive at actionable recommendations Experience writing complex queries in SQL or other SQL-based languages Work proactively with key business partners to closely monitor risks and opportunities and identify improvement opportunities Foster strong relationships with business units by establishing a culture of support and shared accountability within the team Sense of ownership  a growth mindset  and the ability to recommend solutions which are scalable Self-learner and quick to adopt new \n",
       "<mark class=\"entity\" style=\"background: pink; padding: 0.45em 0.6em; margin: 0 0.25em; line-height: 1; border-radius: 0.35em;\">\n",
       "    knowledge\n",
       "    <span style=\"font-size: 0.8em; font-weight: bold; line-height: 1; border-radius: 0.35em; vertical-align: middle; margin-left: 0.5rem\">MISSING</span>\n",
       "</mark>\n",
       " and technical skills Effectively collaborate within a team as well as work independently Experience with BI/analytics/statistics tools and languages (Google BigQuery  Google Data Studio  R  Python  etc.) </div></span>"
      ],
      "text/plain": [
       "<IPython.core.display.HTML object>"
      ]
     },
     "metadata": {},
     "output_type": "display_data"
    },
    {
     "data": {
      "text/html": [
       "<span class=\"tex2jax_ignore\"><div class=\"entities\" style=\"line-height: 2.5; direction: ltr\">Solid technical/functional \n",
       "<mark class=\"entity\" style=\"background: #ddd; padding: 0.45em 0.6em; margin: 0 0.25em; line-height: 1; border-radius: 0.35em;\">\n",
       "    knowledge in statistics Strong\n",
       "    <span style=\"font-size: 0.8em; font-weight: bold; line-height: 1; border-radius: 0.35em; vertical-align: middle; margin-left: 0.5rem\">knowledge_adp</span>\n",
       "</mark>\n",
       " spoken and written communication skills (in both English and Vietnamese) to collaborate with team members and to explain findings clearly to internal team as well as stakeholders Contact the job poster Hoai Trung Nguyen 2nd MoMo is looking for Data Analyst| Research Analyst/Senior Analyst | Internal Control Candidate (all levels) </div></span>"
      ],
      "text/plain": [
       "<IPython.core.display.HTML object>"
      ]
     },
     "metadata": {},
     "output_type": "display_data"
    },
    {
     "data": {
      "text/html": [
       "<span class=\"tex2jax_ignore\"><div class=\"entities\" style=\"line-height: 2.5; direction: ltr\">+ In-\n",
       "<mark class=\"entity\" style=\"background: #ddd; padding: 0.45em 0.6em; margin: 0 0.25em; line-height: 1; border-radius: 0.35em;\">\n",
       "    depth knowledge\n",
       "    <span style=\"font-size: 0.8em; font-weight: bold; line-height: 1; border-radius: 0.35em; vertical-align: middle; margin-left: 0.5rem\">knowledge_noun</span>\n",
       "</mark>\n",
       " and expertise for Information Management in areas of Data Warehousing  Business Intelligence  Data Governance and Data Analysis + Deep experience with monitoring complex system and solving data and systems issues having a consistent and algorithmic approach to resolving them Good English communication  Why you will love working here? </div></span>"
      ],
      "text/plain": [
       "<IPython.core.display.HTML object>"
      ]
     },
     "metadata": {},
     "output_type": "display_data"
    },
    {
     "data": {
      "text/html": [
       "<span class=\"tex2jax_ignore\"><div class=\"entities\" style=\"line-height: 2.5; direction: ltr\">High level of critical thinking  attention to details &amp; numerical \n",
       "<mark class=\"entity\" style=\"background: pink; padding: 0.45em 0.6em; margin: 0 0.25em; line-height: 1; border-radius: 0.35em;\">\n",
       "    skill\n",
       "    <span style=\"font-size: 0.8em; font-weight: bold; line-height: 1; border-radius: 0.35em; vertical-align: middle; margin-left: 0.5rem\">MISSING</span>\n",
       "</mark>\n",
       ". </div></span>"
      ],
      "text/plain": [
       "<IPython.core.display.HTML object>"
      ]
     },
     "metadata": {},
     "output_type": "display_data"
    },
    {
     "data": {
      "text/html": [
       "<span class=\"tex2jax_ignore\"><div class=\"entities\" style=\"line-height: 2.5; direction: ltr\">  About Our Client  As part of this role  responsibilities will include developing deep \n",
       "<mark class=\"entity\" style=\"background: #ddd; padding: 0.45em 0.6em; margin: 0 0.25em; line-height: 1; border-radius: 0.35em;\">\n",
       "    product knowledge\n",
       "    <span style=\"font-size: 0.8em; font-weight: bold; line-height: 1; border-radius: 0.35em; vertical-align: middle; margin-left: 0.5rem\">knowledge_noun</span>\n",
       "</mark>\n",
       " for assigned markets and monitoring &amp; evaluating Product initiatives. </div></span>"
      ],
      "text/plain": [
       "<IPython.core.display.HTML object>"
      ]
     },
     "metadata": {},
     "output_type": "display_data"
    },
    {
     "data": {
      "text/html": [
       "<span class=\"tex2jax_ignore\"><div class=\"entities\" style=\"line-height: 2.5; direction: ltr\"> Job Description  Responsibilities: Build  develop and maintain profit and growth intelligence to monitor overall health of our business Partner and collaborate with the broader East Economics team to evaluate key initiatives' impact on our business Develop deep market/product/competitiveness insight for designated market(s)  support market leads to drive meaningful recommendations for profitable growth  and enhance data driven tools for comprehensive business decision process Work closely with East Economics market leads and in-country partners  identify and develop targeted actions to improve performance through analytics and market insight Partner with in-market and global teams to facilitate quality and efficient data access for Economics Build strong relationships with in-country partners to further advance the global operation model  The Successful Applicant  Qualifications: Proven math and analytical skills  as normally acquired through the pursuit of an FCAS or master's degree in Mathematics  Statistics  Economics  Actuarial Science  or related field with minimum 2-3 years of relevant experience P&amp;C Insurance industry experience preferred  financial services industry experience is a must Experience and knowledge of various programming languages and tools (ex: SQL/SAS/PowerBI)  can perform effective and efficient querying on complex data  ability to manipulate and validate data Aptitude for initiative  effective  innovative problem solving within and across functional groups Ability to establish and build effective relationships within and outside the organization \n",
       "<mark class=\"entity\" style=\"background: #ddd; padding: 0.45em 0.6em; margin: 0 0.25em; line-height: 1; border-radius: 0.35em;\">\n",
       "    Knowledge of insurance operations\n",
       "    <span style=\"font-size: 0.8em; font-weight: bold; line-height: 1; border-radius: 0.35em; vertical-align: middle; margin-left: 0.5rem\">knowledge_adp</span>\n",
       "</mark>\n",
       " and the procedures of Financial  Underwriting  Claims  Statistical  Information Technology or Sales departments is preferred Experience of working with countries in Asia Pacific is highly regarded Effective in communication  particularly to communicate analytical concepts to a broad audience  What's On Offer  Diverse Working Environment </div></span>"
      ],
      "text/plain": [
       "<IPython.core.display.HTML object>"
      ]
     },
     "metadata": {},
     "output_type": "display_data"
    },
    {
     "data": {
      "text/html": [
       "<span class=\"tex2jax_ignore\"><div class=\"entities\" style=\"line-height: 2.5; direction: ltr\">\n",
       "<mark class=\"entity\" style=\"background: #ddd; padding: 0.45em 0.6em; margin: 0 0.25em; line-height: 1; border-radius: 0.35em;\">\n",
       "    Knowledge of programming languages\n",
       "    <span style=\"font-size: 0.8em; font-weight: bold; line-height: 1; border-radius: 0.35em; vertical-align: middle; margin-left: 0.5rem\">knowledge_adp</span>\n",
       "</mark>\n",
       " like SQL Baisc  Postgres  BigQuery  and Python. </div></span>"
      ],
      "text/plain": [
       "<IPython.core.display.HTML object>"
      ]
     },
     "metadata": {},
     "output_type": "display_data"
    }
   ],
   "source": [
    "ads = list(df_DS['description'])\n",
    "show_extraction(ads[:100], matcher)"
   ]
  },
  {
   "cell_type": "code",
   "execution_count": 28,
   "metadata": {},
   "outputs": [],
   "source": [
    "def extract_df(*extractors, n_max=None, **kwargs):\n",
    "    if n_max is None:\n",
    "        n_max = len(df_DS)\n",
    "    ent_df = pd.DataFrame(list(get_extractions(df_DS[:n_max]['description'], *extractors)),\n",
    "                          columns=['text', 'docidx', 'start', 'end', 'label', 'sent_start', 'sent_end'])\n",
    "    return ent_df.merge(df_DS, how='left', left_on='docidx', right_index=True)\n",
    "    # return ent_df\n",
    "\n",
    "ent_df = extract_df(matcher)"
   ]
  },
  {
   "cell_type": "code",
   "execution_count": 29,
   "metadata": {},
   "outputs": [],
   "source": [
    "def aggregate_df(df, col=['text']):\n",
    "    return (df\n",
    "            .groupby(col)\n",
    "            .agg(n_JDs=('id', 'nunique'))\n",
    "            .reset_index()\n",
    "            .sort_values(['n_JDs'], ascending=False)\n",
    "        )"
   ]
  },
  {
   "cell_type": "code",
   "execution_count": 30,
   "metadata": {},
   "outputs": [
    {
     "data": {
      "text/html": [
       "<div>\n",
       "<style scoped>\n",
       "    .dataframe tbody tr th:only-of-type {\n",
       "        vertical-align: middle;\n",
       "    }\n",
       "\n",
       "    .dataframe tbody tr th {\n",
       "        vertical-align: top;\n",
       "    }\n",
       "\n",
       "    .dataframe thead th {\n",
       "        text-align: right;\n",
       "    }\n",
       "</style>\n",
       "<table border=\"1\" class=\"dataframe\">\n",
       "  <thead>\n",
       "    <tr style=\"text-align: right;\">\n",
       "      <th></th>\n",
       "      <th>text</th>\n",
       "      <th>n_JDs</th>\n",
       "    </tr>\n",
       "  </thead>\n",
       "  <tbody>\n",
       "    <tr>\n",
       "      <th>191</th>\n",
       "      <td>opportunities Skill</td>\n",
       "      <td>81</td>\n",
       "    </tr>\n",
       "    <tr>\n",
       "      <th>87</th>\n",
       "      <td>communication skill</td>\n",
       "      <td>10</td>\n",
       "    </tr>\n",
       "    <tr>\n",
       "      <th>60</th>\n",
       "      <td>Knowledge of programming languages</td>\n",
       "      <td>10</td>\n",
       "    </tr>\n",
       "    <tr>\n",
       "      <th>138</th>\n",
       "      <td>knowledge of SQL</td>\n",
       "      <td>9</td>\n",
       "    </tr>\n",
       "    <tr>\n",
       "      <th>70</th>\n",
       "      <td>Knowledge of the Business Intelligence</td>\n",
       "      <td>9</td>\n",
       "    </tr>\n",
       "    <tr>\n",
       "      <th>...</th>\n",
       "      <td>...</td>\n",
       "      <td>...</td>\n",
       "    </tr>\n",
       "    <tr>\n",
       "      <th>88</th>\n",
       "      <td>computer knowledge</td>\n",
       "      <td>1</td>\n",
       "    </tr>\n",
       "    <tr>\n",
       "      <th>90</th>\n",
       "      <td>data engineers Knowledge</td>\n",
       "      <td>1</td>\n",
       "    </tr>\n",
       "    <tr>\n",
       "      <th>91</th>\n",
       "      <td>data structures Knowledge</td>\n",
       "      <td>1</td>\n",
       "    </tr>\n",
       "    <tr>\n",
       "      <th>92</th>\n",
       "      <td>date knowledge</td>\n",
       "      <td>1</td>\n",
       "    </tr>\n",
       "    <tr>\n",
       "      <th>212</th>\n",
       "      <td>visualization skills Knowledge</td>\n",
       "      <td>1</td>\n",
       "    </tr>\n",
       "  </tbody>\n",
       "</table>\n",
       "<p>213 rows × 2 columns</p>\n",
       "</div>"
      ],
      "text/plain": [
       "                                       text  n_JDs\n",
       "191                     opportunities Skill     81\n",
       "87                      communication skill     10\n",
       "60       Knowledge of programming languages     10\n",
       "138                        knowledge of SQL      9\n",
       "70   Knowledge of the Business Intelligence      9\n",
       "..                                      ...    ...\n",
       "88                       computer knowledge      1\n",
       "90                 data engineers Knowledge      1\n",
       "91                data structures Knowledge      1\n",
       "92                           date knowledge      1\n",
       "212          visualization skills Knowledge      1\n",
       "\n",
       "[213 rows x 2 columns]"
      ]
     },
     "execution_count": 30,
     "metadata": {},
     "output_type": "execute_result"
    }
   ],
   "source": [
    "aggregate_df(ent_df)\n"
   ]
  },
  {
   "cell_type": "code",
   "execution_count": null,
   "metadata": {},
   "outputs": [],
   "source": []
  }
 ],
 "metadata": {
  "interpreter": {
   "hash": "aee8b7b246df8f9039afb4144a1f6fd8d2ca17a180786b69acc140d282b71a49"
  },
  "kernelspec": {
   "display_name": "Python 3.9.12 64-bit",
   "language": "python",
   "name": "python3"
  },
  "language_info": {
   "codemirror_mode": {
    "name": "ipython",
    "version": 3
   },
   "file_extension": ".py",
   "mimetype": "text/x-python",
   "name": "python",
   "nbconvert_exporter": "python",
   "pygments_lexer": "ipython3",
   "version": "3.9.12"
  },
  "orig_nbformat": 4
 },
 "nbformat": 4,
 "nbformat_minor": 2
}
